{
 "cells": [
  {
   "cell_type": "code",
   "execution_count": 2,
   "metadata": {},
   "outputs": [],
   "source": [
    "import plotly.express as ex\n",
    "import numpy as np\n",
    "import pandas as pd"
   ]
  },
  {
   "cell_type": "code",
   "execution_count": 10,
   "metadata": {},
   "outputs": [],
   "source": [
    "a = np.random.rand(10,3)\n",
    "b = np.random.rand(10,3)\n",
    "a = pd.DataFrame(a, columns=[\"x\",\"y\", \"z\"])\n",
    "b = pd.DataFrame(b, columns=[\"x\",\"y\", \"z\"])\n",
    "a[\"s\"] = \"a\"\n",
    "b[\"s\"] = \"b\"\n",
    "c = np.random.rand(10,3)\n",
    "c = pd.DataFrame(c, columns=[\"x\",\"y\", \"z\"])\n",
    "c[\"s\"] = \"c\"\n"
   ]
  },
  {
   "cell_type": "code",
   "execution_count": 11,
   "metadata": {},
   "outputs": [],
   "source": [
    "data = pd.concat([a,b])"
   ]
  },
  {
   "cell_type": "code",
   "execution_count": 12,
   "metadata": {},
   "outputs": [],
   "source": [
    "fig = ex.scatter_matrix(data, dimensions=[\"x\",\"y\", \"z\"], color=\"s\")"
   ]
  },
  {
   "cell_type": "code",
   "execution_count": 13,
   "metadata": {},
   "outputs": [
    {
     "data": {
      "application/vnd.plotly.v1+json": {
       "config": {
        "plotlyServerURL": "https://plot.ly"
       },
       "data": [
        {
         "dimensions": [
          {
           "axis": {
            "matches": true
           },
           "label": "x",
           "values": [
            0.2769818195008006,
            0.23946428296987654,
            0.02416367238725825,
            0.030765973564659932,
            0.06179257442207298,
            0.19806475444736038,
            0.017512672297679943,
            0.4933444178595675,
            0.23305931390194445,
            0.15932000080549502
           ]
          },
          {
           "axis": {
            "matches": true
           },
           "label": "y",
           "values": [
            0.931230520124746,
            0.9148720447436626,
            0.257825025754029,
            0.35489797718790295,
            0.1077990053646779,
            0.14507354650219817,
            0.767847711578413,
            0.5263814729876014,
            0.2281239392098119,
            0.5020776647940048
           ]
          },
          {
           "axis": {
            "matches": true
           },
           "label": "z",
           "values": [
            0.8973295867692846,
            0.007847950534292769,
            0.9055546287204238,
            0.8587780327728401,
            0.5850184618588795,
            0.9919412169809344,
            0.0839108107785036,
            0.8282153711421195,
            0.3029005921561406,
            0.5683066160068359
           ]
          }
         ],
         "hovertemplate": "s=a<br>%{xaxis.title.text}=%{x}<br>%{yaxis.title.text}=%{y}<extra></extra>",
         "legendgroup": "a",
         "marker": {
          "color": "#636efa",
          "symbol": "circle"
         },
         "name": "a",
         "showlegend": true,
         "type": "splom"
        },
        {
         "dimensions": [
          {
           "axis": {
            "matches": true
           },
           "label": "x",
           "values": [
            0.12371694179300985,
            0.5235896971785681,
            0.8208402779261358,
            0.49545820331234613,
            0.688847624407316,
            0.012035194103140578,
            0.9478536243230344,
            0.6687645648959668,
            0.1115692882053474,
            0.09950119938899771
           ]
          },
          {
           "axis": {
            "matches": true
           },
           "label": "y",
           "values": [
            0.7276934684561717,
            0.8038300787500755,
            0.251451247729091,
            0.947391184405989,
            0.25789079668614967,
            0.267881817605957,
            0.7150337731668407,
            0.23803807070673977,
            0.3666521630201044,
            0.7553432241117046
           ]
          },
          {
           "axis": {
            "matches": true
           },
           "label": "z",
           "values": [
            0.6433833689989382,
            0.1276775673201409,
            0.4663476892870446,
            0.4102897685210676,
            0.48156036738073427,
            0.6420472588891283,
            0.5640303663538884,
            0.63440154790217,
            0.01411863835241034,
            0.6471158152282703
           ]
          }
         ],
         "hovertemplate": "s=b<br>%{xaxis.title.text}=%{x}<br>%{yaxis.title.text}=%{y}<extra></extra>",
         "legendgroup": "b",
         "marker": {
          "color": "#EF553B",
          "symbol": "circle"
         },
         "name": "b",
         "showlegend": true,
         "type": "splom"
        }
       ],
       "layout": {
        "dragmode": "select",
        "legend": {
         "title": {
          "text": "s"
         },
         "tracegroupgap": 0
        },
        "margin": {
         "t": 60
        },
        "template": {
         "data": {
          "bar": [
           {
            "error_x": {
             "color": "#2a3f5f"
            },
            "error_y": {
             "color": "#2a3f5f"
            },
            "marker": {
             "line": {
              "color": "#E5ECF6",
              "width": 0.5
             }
            },
            "type": "bar"
           }
          ],
          "barpolar": [
           {
            "marker": {
             "line": {
              "color": "#E5ECF6",
              "width": 0.5
             }
            },
            "type": "barpolar"
           }
          ],
          "carpet": [
           {
            "aaxis": {
             "endlinecolor": "#2a3f5f",
             "gridcolor": "white",
             "linecolor": "white",
             "minorgridcolor": "white",
             "startlinecolor": "#2a3f5f"
            },
            "baxis": {
             "endlinecolor": "#2a3f5f",
             "gridcolor": "white",
             "linecolor": "white",
             "minorgridcolor": "white",
             "startlinecolor": "#2a3f5f"
            },
            "type": "carpet"
           }
          ],
          "choropleth": [
           {
            "colorbar": {
             "outlinewidth": 0,
             "ticks": ""
            },
            "type": "choropleth"
           }
          ],
          "contour": [
           {
            "colorbar": {
             "outlinewidth": 0,
             "ticks": ""
            },
            "colorscale": [
             [
              0,
              "#0d0887"
             ],
             [
              0.1111111111111111,
              "#46039f"
             ],
             [
              0.2222222222222222,
              "#7201a8"
             ],
             [
              0.3333333333333333,
              "#9c179e"
             ],
             [
              0.4444444444444444,
              "#bd3786"
             ],
             [
              0.5555555555555556,
              "#d8576b"
             ],
             [
              0.6666666666666666,
              "#ed7953"
             ],
             [
              0.7777777777777778,
              "#fb9f3a"
             ],
             [
              0.8888888888888888,
              "#fdca26"
             ],
             [
              1,
              "#f0f921"
             ]
            ],
            "type": "contour"
           }
          ],
          "contourcarpet": [
           {
            "colorbar": {
             "outlinewidth": 0,
             "ticks": ""
            },
            "type": "contourcarpet"
           }
          ],
          "heatmap": [
           {
            "colorbar": {
             "outlinewidth": 0,
             "ticks": ""
            },
            "colorscale": [
             [
              0,
              "#0d0887"
             ],
             [
              0.1111111111111111,
              "#46039f"
             ],
             [
              0.2222222222222222,
              "#7201a8"
             ],
             [
              0.3333333333333333,
              "#9c179e"
             ],
             [
              0.4444444444444444,
              "#bd3786"
             ],
             [
              0.5555555555555556,
              "#d8576b"
             ],
             [
              0.6666666666666666,
              "#ed7953"
             ],
             [
              0.7777777777777778,
              "#fb9f3a"
             ],
             [
              0.8888888888888888,
              "#fdca26"
             ],
             [
              1,
              "#f0f921"
             ]
            ],
            "type": "heatmap"
           }
          ],
          "heatmapgl": [
           {
            "colorbar": {
             "outlinewidth": 0,
             "ticks": ""
            },
            "colorscale": [
             [
              0,
              "#0d0887"
             ],
             [
              0.1111111111111111,
              "#46039f"
             ],
             [
              0.2222222222222222,
              "#7201a8"
             ],
             [
              0.3333333333333333,
              "#9c179e"
             ],
             [
              0.4444444444444444,
              "#bd3786"
             ],
             [
              0.5555555555555556,
              "#d8576b"
             ],
             [
              0.6666666666666666,
              "#ed7953"
             ],
             [
              0.7777777777777778,
              "#fb9f3a"
             ],
             [
              0.8888888888888888,
              "#fdca26"
             ],
             [
              1,
              "#f0f921"
             ]
            ],
            "type": "heatmapgl"
           }
          ],
          "histogram": [
           {
            "marker": {
             "colorbar": {
              "outlinewidth": 0,
              "ticks": ""
             }
            },
            "type": "histogram"
           }
          ],
          "histogram2d": [
           {
            "colorbar": {
             "outlinewidth": 0,
             "ticks": ""
            },
            "colorscale": [
             [
              0,
              "#0d0887"
             ],
             [
              0.1111111111111111,
              "#46039f"
             ],
             [
              0.2222222222222222,
              "#7201a8"
             ],
             [
              0.3333333333333333,
              "#9c179e"
             ],
             [
              0.4444444444444444,
              "#bd3786"
             ],
             [
              0.5555555555555556,
              "#d8576b"
             ],
             [
              0.6666666666666666,
              "#ed7953"
             ],
             [
              0.7777777777777778,
              "#fb9f3a"
             ],
             [
              0.8888888888888888,
              "#fdca26"
             ],
             [
              1,
              "#f0f921"
             ]
            ],
            "type": "histogram2d"
           }
          ],
          "histogram2dcontour": [
           {
            "colorbar": {
             "outlinewidth": 0,
             "ticks": ""
            },
            "colorscale": [
             [
              0,
              "#0d0887"
             ],
             [
              0.1111111111111111,
              "#46039f"
             ],
             [
              0.2222222222222222,
              "#7201a8"
             ],
             [
              0.3333333333333333,
              "#9c179e"
             ],
             [
              0.4444444444444444,
              "#bd3786"
             ],
             [
              0.5555555555555556,
              "#d8576b"
             ],
             [
              0.6666666666666666,
              "#ed7953"
             ],
             [
              0.7777777777777778,
              "#fb9f3a"
             ],
             [
              0.8888888888888888,
              "#fdca26"
             ],
             [
              1,
              "#f0f921"
             ]
            ],
            "type": "histogram2dcontour"
           }
          ],
          "mesh3d": [
           {
            "colorbar": {
             "outlinewidth": 0,
             "ticks": ""
            },
            "type": "mesh3d"
           }
          ],
          "parcoords": [
           {
            "line": {
             "colorbar": {
              "outlinewidth": 0,
              "ticks": ""
             }
            },
            "type": "parcoords"
           }
          ],
          "pie": [
           {
            "automargin": true,
            "type": "pie"
           }
          ],
          "scatter": [
           {
            "marker": {
             "colorbar": {
              "outlinewidth": 0,
              "ticks": ""
             }
            },
            "type": "scatter"
           }
          ],
          "scatter3d": [
           {
            "line": {
             "colorbar": {
              "outlinewidth": 0,
              "ticks": ""
             }
            },
            "marker": {
             "colorbar": {
              "outlinewidth": 0,
              "ticks": ""
             }
            },
            "type": "scatter3d"
           }
          ],
          "scattercarpet": [
           {
            "marker": {
             "colorbar": {
              "outlinewidth": 0,
              "ticks": ""
             }
            },
            "type": "scattercarpet"
           }
          ],
          "scattergeo": [
           {
            "marker": {
             "colorbar": {
              "outlinewidth": 0,
              "ticks": ""
             }
            },
            "type": "scattergeo"
           }
          ],
          "scattergl": [
           {
            "marker": {
             "colorbar": {
              "outlinewidth": 0,
              "ticks": ""
             }
            },
            "type": "scattergl"
           }
          ],
          "scattermapbox": [
           {
            "marker": {
             "colorbar": {
              "outlinewidth": 0,
              "ticks": ""
             }
            },
            "type": "scattermapbox"
           }
          ],
          "scatterpolar": [
           {
            "marker": {
             "colorbar": {
              "outlinewidth": 0,
              "ticks": ""
             }
            },
            "type": "scatterpolar"
           }
          ],
          "scatterpolargl": [
           {
            "marker": {
             "colorbar": {
              "outlinewidth": 0,
              "ticks": ""
             }
            },
            "type": "scatterpolargl"
           }
          ],
          "scatterternary": [
           {
            "marker": {
             "colorbar": {
              "outlinewidth": 0,
              "ticks": ""
             }
            },
            "type": "scatterternary"
           }
          ],
          "surface": [
           {
            "colorbar": {
             "outlinewidth": 0,
             "ticks": ""
            },
            "colorscale": [
             [
              0,
              "#0d0887"
             ],
             [
              0.1111111111111111,
              "#46039f"
             ],
             [
              0.2222222222222222,
              "#7201a8"
             ],
             [
              0.3333333333333333,
              "#9c179e"
             ],
             [
              0.4444444444444444,
              "#bd3786"
             ],
             [
              0.5555555555555556,
              "#d8576b"
             ],
             [
              0.6666666666666666,
              "#ed7953"
             ],
             [
              0.7777777777777778,
              "#fb9f3a"
             ],
             [
              0.8888888888888888,
              "#fdca26"
             ],
             [
              1,
              "#f0f921"
             ]
            ],
            "type": "surface"
           }
          ],
          "table": [
           {
            "cells": {
             "fill": {
              "color": "#EBF0F8"
             },
             "line": {
              "color": "white"
             }
            },
            "header": {
             "fill": {
              "color": "#C8D4E3"
             },
             "line": {
              "color": "white"
             }
            },
            "type": "table"
           }
          ]
         },
         "layout": {
          "annotationdefaults": {
           "arrowcolor": "#2a3f5f",
           "arrowhead": 0,
           "arrowwidth": 1
          },
          "coloraxis": {
           "colorbar": {
            "outlinewidth": 0,
            "ticks": ""
           }
          },
          "colorscale": {
           "diverging": [
            [
             0,
             "#8e0152"
            ],
            [
             0.1,
             "#c51b7d"
            ],
            [
             0.2,
             "#de77ae"
            ],
            [
             0.3,
             "#f1b6da"
            ],
            [
             0.4,
             "#fde0ef"
            ],
            [
             0.5,
             "#f7f7f7"
            ],
            [
             0.6,
             "#e6f5d0"
            ],
            [
             0.7,
             "#b8e186"
            ],
            [
             0.8,
             "#7fbc41"
            ],
            [
             0.9,
             "#4d9221"
            ],
            [
             1,
             "#276419"
            ]
           ],
           "sequential": [
            [
             0,
             "#0d0887"
            ],
            [
             0.1111111111111111,
             "#46039f"
            ],
            [
             0.2222222222222222,
             "#7201a8"
            ],
            [
             0.3333333333333333,
             "#9c179e"
            ],
            [
             0.4444444444444444,
             "#bd3786"
            ],
            [
             0.5555555555555556,
             "#d8576b"
            ],
            [
             0.6666666666666666,
             "#ed7953"
            ],
            [
             0.7777777777777778,
             "#fb9f3a"
            ],
            [
             0.8888888888888888,
             "#fdca26"
            ],
            [
             1,
             "#f0f921"
            ]
           ],
           "sequentialminus": [
            [
             0,
             "#0d0887"
            ],
            [
             0.1111111111111111,
             "#46039f"
            ],
            [
             0.2222222222222222,
             "#7201a8"
            ],
            [
             0.3333333333333333,
             "#9c179e"
            ],
            [
             0.4444444444444444,
             "#bd3786"
            ],
            [
             0.5555555555555556,
             "#d8576b"
            ],
            [
             0.6666666666666666,
             "#ed7953"
            ],
            [
             0.7777777777777778,
             "#fb9f3a"
            ],
            [
             0.8888888888888888,
             "#fdca26"
            ],
            [
             1,
             "#f0f921"
            ]
           ]
          },
          "colorway": [
           "#636efa",
           "#EF553B",
           "#00cc96",
           "#ab63fa",
           "#FFA15A",
           "#19d3f3",
           "#FF6692",
           "#B6E880",
           "#FF97FF",
           "#FECB52"
          ],
          "font": {
           "color": "#2a3f5f"
          },
          "geo": {
           "bgcolor": "white",
           "lakecolor": "white",
           "landcolor": "#E5ECF6",
           "showlakes": true,
           "showland": true,
           "subunitcolor": "white"
          },
          "hoverlabel": {
           "align": "left"
          },
          "hovermode": "closest",
          "mapbox": {
           "style": "light"
          },
          "paper_bgcolor": "white",
          "plot_bgcolor": "#E5ECF6",
          "polar": {
           "angularaxis": {
            "gridcolor": "white",
            "linecolor": "white",
            "ticks": ""
           },
           "bgcolor": "#E5ECF6",
           "radialaxis": {
            "gridcolor": "white",
            "linecolor": "white",
            "ticks": ""
           }
          },
          "scene": {
           "xaxis": {
            "backgroundcolor": "#E5ECF6",
            "gridcolor": "white",
            "gridwidth": 2,
            "linecolor": "white",
            "showbackground": true,
            "ticks": "",
            "zerolinecolor": "white"
           },
           "yaxis": {
            "backgroundcolor": "#E5ECF6",
            "gridcolor": "white",
            "gridwidth": 2,
            "linecolor": "white",
            "showbackground": true,
            "ticks": "",
            "zerolinecolor": "white"
           },
           "zaxis": {
            "backgroundcolor": "#E5ECF6",
            "gridcolor": "white",
            "gridwidth": 2,
            "linecolor": "white",
            "showbackground": true,
            "ticks": "",
            "zerolinecolor": "white"
           }
          },
          "shapedefaults": {
           "line": {
            "color": "#2a3f5f"
           }
          },
          "ternary": {
           "aaxis": {
            "gridcolor": "white",
            "linecolor": "white",
            "ticks": ""
           },
           "baxis": {
            "gridcolor": "white",
            "linecolor": "white",
            "ticks": ""
           },
           "bgcolor": "#E5ECF6",
           "caxis": {
            "gridcolor": "white",
            "linecolor": "white",
            "ticks": ""
           }
          },
          "title": {
           "x": 0.05
          },
          "xaxis": {
           "automargin": true,
           "gridcolor": "white",
           "linecolor": "white",
           "ticks": "",
           "title": {
            "standoff": 15
           },
           "zerolinecolor": "white",
           "zerolinewidth": 2
          },
          "yaxis": {
           "automargin": true,
           "gridcolor": "white",
           "linecolor": "white",
           "ticks": "",
           "title": {
            "standoff": 15
           },
           "zerolinecolor": "white",
           "zerolinewidth": 2
          }
         }
        }
       }
      },
      "text/html": [
       "<div>\n",
       "        \n",
       "        \n",
       "            <div id=\"3d79ecea-6c32-4023-a86b-e0ce91be6e58\" class=\"plotly-graph-div\" style=\"height:525px; width:100%;\"></div>\n",
       "            <script type=\"text/javascript\">\n",
       "                require([\"plotly\"], function(Plotly) {\n",
       "                    window.PLOTLYENV=window.PLOTLYENV || {};\n",
       "                    \n",
       "                if (document.getElementById(\"3d79ecea-6c32-4023-a86b-e0ce91be6e58\")) {\n",
       "                    Plotly.newPlot(\n",
       "                        '3d79ecea-6c32-4023-a86b-e0ce91be6e58',\n",
       "                        [{\"dimensions\": [{\"axis\": {\"matches\": true}, \"label\": \"x\", \"values\": [0.2769818195008006, 0.23946428296987654, 0.02416367238725825, 0.030765973564659932, 0.06179257442207298, 0.19806475444736038, 0.017512672297679943, 0.4933444178595675, 0.23305931390194445, 0.15932000080549502]}, {\"axis\": {\"matches\": true}, \"label\": \"y\", \"values\": [0.931230520124746, 0.9148720447436626, 0.257825025754029, 0.35489797718790295, 0.1077990053646779, 0.14507354650219817, 0.767847711578413, 0.5263814729876014, 0.2281239392098119, 0.5020776647940048]}, {\"axis\": {\"matches\": true}, \"label\": \"z\", \"values\": [0.8973295867692846, 0.007847950534292769, 0.9055546287204238, 0.8587780327728401, 0.5850184618588795, 0.9919412169809344, 0.0839108107785036, 0.8282153711421195, 0.3029005921561406, 0.5683066160068359]}], \"hovertemplate\": \"s=a<br>%{xaxis.title.text}=%{x}<br>%{yaxis.title.text}=%{y}<extra></extra>\", \"legendgroup\": \"a\", \"marker\": {\"color\": \"#636efa\", \"symbol\": \"circle\"}, \"name\": \"a\", \"showlegend\": true, \"type\": \"splom\"}, {\"dimensions\": [{\"axis\": {\"matches\": true}, \"label\": \"x\", \"values\": [0.12371694179300985, 0.5235896971785681, 0.8208402779261358, 0.49545820331234613, 0.688847624407316, 0.012035194103140578, 0.9478536243230344, 0.6687645648959668, 0.1115692882053474, 0.09950119938899771]}, {\"axis\": {\"matches\": true}, \"label\": \"y\", \"values\": [0.7276934684561717, 0.8038300787500755, 0.251451247729091, 0.947391184405989, 0.25789079668614967, 0.267881817605957, 0.7150337731668407, 0.23803807070673977, 0.3666521630201044, 0.7553432241117046]}, {\"axis\": {\"matches\": true}, \"label\": \"z\", \"values\": [0.6433833689989382, 0.1276775673201409, 0.4663476892870446, 0.4102897685210676, 0.48156036738073427, 0.6420472588891283, 0.5640303663538884, 0.63440154790217, 0.01411863835241034, 0.6471158152282703]}], \"hovertemplate\": \"s=b<br>%{xaxis.title.text}=%{x}<br>%{yaxis.title.text}=%{y}<extra></extra>\", \"legendgroup\": \"b\", \"marker\": {\"color\": \"#EF553B\", \"symbol\": \"circle\"}, \"name\": \"b\", \"showlegend\": true, \"type\": \"splom\"}],\n",
       "                        {\"dragmode\": \"select\", \"legend\": {\"title\": {\"text\": \"s\"}, \"tracegroupgap\": 0}, \"margin\": {\"t\": 60}, \"template\": {\"data\": {\"bar\": [{\"error_x\": {\"color\": \"#2a3f5f\"}, \"error_y\": {\"color\": \"#2a3f5f\"}, \"marker\": {\"line\": {\"color\": \"#E5ECF6\", \"width\": 0.5}}, \"type\": \"bar\"}], \"barpolar\": [{\"marker\": {\"line\": {\"color\": \"#E5ECF6\", \"width\": 0.5}}, \"type\": \"barpolar\"}], \"carpet\": [{\"aaxis\": {\"endlinecolor\": \"#2a3f5f\", \"gridcolor\": \"white\", \"linecolor\": \"white\", \"minorgridcolor\": \"white\", \"startlinecolor\": \"#2a3f5f\"}, \"baxis\": {\"endlinecolor\": \"#2a3f5f\", \"gridcolor\": \"white\", \"linecolor\": \"white\", \"minorgridcolor\": \"white\", \"startlinecolor\": \"#2a3f5f\"}, \"type\": \"carpet\"}], \"choropleth\": [{\"colorbar\": {\"outlinewidth\": 0, \"ticks\": \"\"}, \"type\": \"choropleth\"}], \"contour\": [{\"colorbar\": {\"outlinewidth\": 0, \"ticks\": \"\"}, \"colorscale\": [[0.0, \"#0d0887\"], [0.1111111111111111, \"#46039f\"], [0.2222222222222222, \"#7201a8\"], [0.3333333333333333, \"#9c179e\"], [0.4444444444444444, \"#bd3786\"], [0.5555555555555556, \"#d8576b\"], [0.6666666666666666, \"#ed7953\"], [0.7777777777777778, \"#fb9f3a\"], [0.8888888888888888, \"#fdca26\"], [1.0, \"#f0f921\"]], \"type\": \"contour\"}], \"contourcarpet\": [{\"colorbar\": {\"outlinewidth\": 0, \"ticks\": \"\"}, \"type\": \"contourcarpet\"}], \"heatmap\": [{\"colorbar\": {\"outlinewidth\": 0, \"ticks\": \"\"}, \"colorscale\": [[0.0, \"#0d0887\"], [0.1111111111111111, \"#46039f\"], [0.2222222222222222, \"#7201a8\"], [0.3333333333333333, \"#9c179e\"], [0.4444444444444444, \"#bd3786\"], [0.5555555555555556, \"#d8576b\"], [0.6666666666666666, \"#ed7953\"], [0.7777777777777778, \"#fb9f3a\"], [0.8888888888888888, \"#fdca26\"], [1.0, \"#f0f921\"]], \"type\": \"heatmap\"}], \"heatmapgl\": [{\"colorbar\": {\"outlinewidth\": 0, \"ticks\": \"\"}, \"colorscale\": [[0.0, \"#0d0887\"], [0.1111111111111111, \"#46039f\"], [0.2222222222222222, \"#7201a8\"], [0.3333333333333333, \"#9c179e\"], [0.4444444444444444, \"#bd3786\"], [0.5555555555555556, \"#d8576b\"], [0.6666666666666666, \"#ed7953\"], [0.7777777777777778, \"#fb9f3a\"], [0.8888888888888888, \"#fdca26\"], [1.0, \"#f0f921\"]], \"type\": \"heatmapgl\"}], \"histogram\": [{\"marker\": {\"colorbar\": {\"outlinewidth\": 0, \"ticks\": \"\"}}, \"type\": \"histogram\"}], \"histogram2d\": [{\"colorbar\": {\"outlinewidth\": 0, \"ticks\": \"\"}, \"colorscale\": [[0.0, \"#0d0887\"], [0.1111111111111111, \"#46039f\"], [0.2222222222222222, \"#7201a8\"], [0.3333333333333333, \"#9c179e\"], [0.4444444444444444, \"#bd3786\"], [0.5555555555555556, \"#d8576b\"], [0.6666666666666666, \"#ed7953\"], [0.7777777777777778, \"#fb9f3a\"], [0.8888888888888888, \"#fdca26\"], [1.0, \"#f0f921\"]], \"type\": \"histogram2d\"}], \"histogram2dcontour\": [{\"colorbar\": {\"outlinewidth\": 0, \"ticks\": \"\"}, \"colorscale\": [[0.0, \"#0d0887\"], [0.1111111111111111, \"#46039f\"], [0.2222222222222222, \"#7201a8\"], [0.3333333333333333, \"#9c179e\"], [0.4444444444444444, \"#bd3786\"], [0.5555555555555556, \"#d8576b\"], [0.6666666666666666, \"#ed7953\"], [0.7777777777777778, \"#fb9f3a\"], [0.8888888888888888, \"#fdca26\"], [1.0, \"#f0f921\"]], \"type\": \"histogram2dcontour\"}], \"mesh3d\": [{\"colorbar\": {\"outlinewidth\": 0, \"ticks\": \"\"}, \"type\": \"mesh3d\"}], \"parcoords\": [{\"line\": {\"colorbar\": {\"outlinewidth\": 0, \"ticks\": \"\"}}, \"type\": \"parcoords\"}], \"pie\": [{\"automargin\": true, \"type\": \"pie\"}], \"scatter\": [{\"marker\": {\"colorbar\": {\"outlinewidth\": 0, \"ticks\": \"\"}}, \"type\": \"scatter\"}], \"scatter3d\": [{\"line\": {\"colorbar\": {\"outlinewidth\": 0, \"ticks\": \"\"}}, \"marker\": {\"colorbar\": {\"outlinewidth\": 0, \"ticks\": \"\"}}, \"type\": \"scatter3d\"}], \"scattercarpet\": [{\"marker\": {\"colorbar\": {\"outlinewidth\": 0, \"ticks\": \"\"}}, \"type\": \"scattercarpet\"}], \"scattergeo\": [{\"marker\": {\"colorbar\": {\"outlinewidth\": 0, \"ticks\": \"\"}}, \"type\": \"scattergeo\"}], \"scattergl\": [{\"marker\": {\"colorbar\": {\"outlinewidth\": 0, \"ticks\": \"\"}}, \"type\": \"scattergl\"}], \"scattermapbox\": [{\"marker\": {\"colorbar\": {\"outlinewidth\": 0, \"ticks\": \"\"}}, \"type\": \"scattermapbox\"}], \"scatterpolar\": [{\"marker\": {\"colorbar\": {\"outlinewidth\": 0, \"ticks\": \"\"}}, \"type\": \"scatterpolar\"}], \"scatterpolargl\": [{\"marker\": {\"colorbar\": {\"outlinewidth\": 0, \"ticks\": \"\"}}, \"type\": \"scatterpolargl\"}], \"scatterternary\": [{\"marker\": {\"colorbar\": {\"outlinewidth\": 0, \"ticks\": \"\"}}, \"type\": \"scatterternary\"}], \"surface\": [{\"colorbar\": {\"outlinewidth\": 0, \"ticks\": \"\"}, \"colorscale\": [[0.0, \"#0d0887\"], [0.1111111111111111, \"#46039f\"], [0.2222222222222222, \"#7201a8\"], [0.3333333333333333, \"#9c179e\"], [0.4444444444444444, \"#bd3786\"], [0.5555555555555556, \"#d8576b\"], [0.6666666666666666, \"#ed7953\"], [0.7777777777777778, \"#fb9f3a\"], [0.8888888888888888, \"#fdca26\"], [1.0, \"#f0f921\"]], \"type\": \"surface\"}], \"table\": [{\"cells\": {\"fill\": {\"color\": \"#EBF0F8\"}, \"line\": {\"color\": \"white\"}}, \"header\": {\"fill\": {\"color\": \"#C8D4E3\"}, \"line\": {\"color\": \"white\"}}, \"type\": \"table\"}]}, \"layout\": {\"annotationdefaults\": {\"arrowcolor\": \"#2a3f5f\", \"arrowhead\": 0, \"arrowwidth\": 1}, \"coloraxis\": {\"colorbar\": {\"outlinewidth\": 0, \"ticks\": \"\"}}, \"colorscale\": {\"diverging\": [[0, \"#8e0152\"], [0.1, \"#c51b7d\"], [0.2, \"#de77ae\"], [0.3, \"#f1b6da\"], [0.4, \"#fde0ef\"], [0.5, \"#f7f7f7\"], [0.6, \"#e6f5d0\"], [0.7, \"#b8e186\"], [0.8, \"#7fbc41\"], [0.9, \"#4d9221\"], [1, \"#276419\"]], \"sequential\": [[0.0, \"#0d0887\"], [0.1111111111111111, \"#46039f\"], [0.2222222222222222, \"#7201a8\"], [0.3333333333333333, \"#9c179e\"], [0.4444444444444444, \"#bd3786\"], [0.5555555555555556, \"#d8576b\"], [0.6666666666666666, \"#ed7953\"], [0.7777777777777778, \"#fb9f3a\"], [0.8888888888888888, \"#fdca26\"], [1.0, \"#f0f921\"]], \"sequentialminus\": [[0.0, \"#0d0887\"], [0.1111111111111111, \"#46039f\"], [0.2222222222222222, \"#7201a8\"], [0.3333333333333333, \"#9c179e\"], [0.4444444444444444, \"#bd3786\"], [0.5555555555555556, \"#d8576b\"], [0.6666666666666666, \"#ed7953\"], [0.7777777777777778, \"#fb9f3a\"], [0.8888888888888888, \"#fdca26\"], [1.0, \"#f0f921\"]]}, \"colorway\": [\"#636efa\", \"#EF553B\", \"#00cc96\", \"#ab63fa\", \"#FFA15A\", \"#19d3f3\", \"#FF6692\", \"#B6E880\", \"#FF97FF\", \"#FECB52\"], \"font\": {\"color\": \"#2a3f5f\"}, \"geo\": {\"bgcolor\": \"white\", \"lakecolor\": \"white\", \"landcolor\": \"#E5ECF6\", \"showlakes\": true, \"showland\": true, \"subunitcolor\": \"white\"}, \"hoverlabel\": {\"align\": \"left\"}, \"hovermode\": \"closest\", \"mapbox\": {\"style\": \"light\"}, \"paper_bgcolor\": \"white\", \"plot_bgcolor\": \"#E5ECF6\", \"polar\": {\"angularaxis\": {\"gridcolor\": \"white\", \"linecolor\": \"white\", \"ticks\": \"\"}, \"bgcolor\": \"#E5ECF6\", \"radialaxis\": {\"gridcolor\": \"white\", \"linecolor\": \"white\", \"ticks\": \"\"}}, \"scene\": {\"xaxis\": {\"backgroundcolor\": \"#E5ECF6\", \"gridcolor\": \"white\", \"gridwidth\": 2, \"linecolor\": \"white\", \"showbackground\": true, \"ticks\": \"\", \"zerolinecolor\": \"white\"}, \"yaxis\": {\"backgroundcolor\": \"#E5ECF6\", \"gridcolor\": \"white\", \"gridwidth\": 2, \"linecolor\": \"white\", \"showbackground\": true, \"ticks\": \"\", \"zerolinecolor\": \"white\"}, \"zaxis\": {\"backgroundcolor\": \"#E5ECF6\", \"gridcolor\": \"white\", \"gridwidth\": 2, \"linecolor\": \"white\", \"showbackground\": true, \"ticks\": \"\", \"zerolinecolor\": \"white\"}}, \"shapedefaults\": {\"line\": {\"color\": \"#2a3f5f\"}}, \"ternary\": {\"aaxis\": {\"gridcolor\": \"white\", \"linecolor\": \"white\", \"ticks\": \"\"}, \"baxis\": {\"gridcolor\": \"white\", \"linecolor\": \"white\", \"ticks\": \"\"}, \"bgcolor\": \"#E5ECF6\", \"caxis\": {\"gridcolor\": \"white\", \"linecolor\": \"white\", \"ticks\": \"\"}}, \"title\": {\"x\": 0.05}, \"xaxis\": {\"automargin\": true, \"gridcolor\": \"white\", \"linecolor\": \"white\", \"ticks\": \"\", \"title\": {\"standoff\": 15}, \"zerolinecolor\": \"white\", \"zerolinewidth\": 2}, \"yaxis\": {\"automargin\": true, \"gridcolor\": \"white\", \"linecolor\": \"white\", \"ticks\": \"\", \"title\": {\"standoff\": 15}, \"zerolinecolor\": \"white\", \"zerolinewidth\": 2}}}},\n",
       "                        {\"responsive\": true}\n",
       "                    ).then(function(){\n",
       "                            \n",
       "var gd = document.getElementById('3d79ecea-6c32-4023-a86b-e0ce91be6e58');\n",
       "var x = new MutationObserver(function (mutations, observer) {{\n",
       "        var display = window.getComputedStyle(gd).display;\n",
       "        if (!display || display === 'none') {{\n",
       "            console.log([gd, 'removed!']);\n",
       "            Plotly.purge(gd);\n",
       "            observer.disconnect();\n",
       "        }}\n",
       "}});\n",
       "\n",
       "// Listen for the removal of the full notebook cells\n",
       "var notebookContainer = gd.closest('#notebook-container');\n",
       "if (notebookContainer) {{\n",
       "    x.observe(notebookContainer, {childList: true});\n",
       "}}\n",
       "\n",
       "// Listen for the clearing of the current output cell\n",
       "var outputEl = gd.closest('.output');\n",
       "if (outputEl) {{\n",
       "    x.observe(outputEl, {childList: true});\n",
       "}}\n",
       "\n",
       "                        })\n",
       "                };\n",
       "                });\n",
       "            </script>\n",
       "        </div>"
      ]
     },
     "metadata": {},
     "output_type": "display_data"
    }
   ],
   "source": [
    "fig.show()"
   ]
  },
  {
   "cell_type": "code",
   "execution_count": 14,
   "metadata": {},
   "outputs": [
    {
     "data": {
      "application/vnd.plotly.v1+json": {
       "config": {
        "plotlyServerURL": "https://plot.ly"
       },
       "data": [
        {
         "dimensions": [
          {
           "axis": {
            "matches": true
           },
           "label": "x",
           "values": [
            0.2769818195008006,
            0.23946428296987654,
            0.02416367238725825,
            0.030765973564659932,
            0.06179257442207298,
            0.19806475444736038,
            0.017512672297679943,
            0.4933444178595675,
            0.23305931390194445,
            0.15932000080549502
           ]
          },
          {
           "axis": {
            "matches": true
           },
           "label": "y",
           "values": [
            0.931230520124746,
            0.9148720447436626,
            0.257825025754029,
            0.35489797718790295,
            0.1077990053646779,
            0.14507354650219817,
            0.767847711578413,
            0.5263814729876014,
            0.2281239392098119,
            0.5020776647940048
           ]
          },
          {
           "axis": {
            "matches": true
           },
           "label": "z",
           "values": [
            0.8973295867692846,
            0.007847950534292769,
            0.9055546287204238,
            0.8587780327728401,
            0.5850184618588795,
            0.9919412169809344,
            0.0839108107785036,
            0.8282153711421195,
            0.3029005921561406,
            0.5683066160068359
           ]
          }
         ],
         "hovertemplate": "s=a<br>%{xaxis.title.text}=%{x}<br>%{yaxis.title.text}=%{y}<extra></extra>",
         "legendgroup": "a",
         "marker": {
          "color": "#636efa",
          "symbol": "circle"
         },
         "name": "a",
         "showlegend": true,
         "type": "splom"
        },
        {
         "dimensions": [
          {
           "axis": {
            "matches": true
           },
           "label": "x",
           "values": [
            0.12371694179300985,
            0.5235896971785681,
            0.8208402779261358,
            0.49545820331234613,
            0.688847624407316,
            0.012035194103140578,
            0.9478536243230344,
            0.6687645648959668,
            0.1115692882053474,
            0.09950119938899771
           ]
          },
          {
           "axis": {
            "matches": true
           },
           "label": "y",
           "values": [
            0.7276934684561717,
            0.8038300787500755,
            0.251451247729091,
            0.947391184405989,
            0.25789079668614967,
            0.267881817605957,
            0.7150337731668407,
            0.23803807070673977,
            0.3666521630201044,
            0.7553432241117046
           ]
          },
          {
           "axis": {
            "matches": true
           },
           "label": "z",
           "values": [
            0.6433833689989382,
            0.1276775673201409,
            0.4663476892870446,
            0.4102897685210676,
            0.48156036738073427,
            0.6420472588891283,
            0.5640303663538884,
            0.63440154790217,
            0.01411863835241034,
            0.6471158152282703
           ]
          }
         ],
         "hovertemplate": "s=b<br>%{xaxis.title.text}=%{x}<br>%{yaxis.title.text}=%{y}<extra></extra>",
         "legendgroup": "b",
         "marker": {
          "color": "#EF553B",
          "symbol": "circle"
         },
         "name": "b",
         "showlegend": true,
         "type": "splom"
        },
        {
         "customdata": [
          [
           0.595659348373677,
           0.6446390708610317,
           0.18075899585035105,
           "c"
          ],
          [
           0.9161593780550196,
           0.6771262324064155,
           0.9268530206131359,
           "c"
          ],
          [
           0.7731683579677081,
           0.20641308557534555,
           0.4927515945928569,
           "c"
          ],
          [
           0.30109773971302345,
           0.8263170710121248,
           0.35733790952860367,
           "c"
          ],
          [
           0.7551633894609243,
           0.5749276469851344,
           0.7455571056656379,
           "c"
          ],
          [
           0.48863879292870926,
           0.7300320933434961,
           0.5825997856137168,
           "c"
          ],
          [
           0.4393093605589642,
           0.08294698481645546,
           0.3472172800345814,
           "c"
          ],
          [
           0.07978104757244764,
           0.275722208362451,
           0.7022282704494741,
           "c"
          ],
          [
           0.6882297246370813,
           0.5557152763188825,
           0.7828840133060051,
           "c"
          ],
          [
           0.5399264316896801,
           0.20761477793789207,
           0.7475408528943764,
           "c"
          ]
         ],
         "type": "splom"
        }
       ],
       "layout": {
        "dragmode": "select",
        "legend": {
         "title": {
          "text": "s"
         },
         "tracegroupgap": 0
        },
        "margin": {
         "t": 60
        },
        "template": {
         "data": {
          "bar": [
           {
            "error_x": {
             "color": "#2a3f5f"
            },
            "error_y": {
             "color": "#2a3f5f"
            },
            "marker": {
             "line": {
              "color": "#E5ECF6",
              "width": 0.5
             }
            },
            "type": "bar"
           }
          ],
          "barpolar": [
           {
            "marker": {
             "line": {
              "color": "#E5ECF6",
              "width": 0.5
             }
            },
            "type": "barpolar"
           }
          ],
          "carpet": [
           {
            "aaxis": {
             "endlinecolor": "#2a3f5f",
             "gridcolor": "white",
             "linecolor": "white",
             "minorgridcolor": "white",
             "startlinecolor": "#2a3f5f"
            },
            "baxis": {
             "endlinecolor": "#2a3f5f",
             "gridcolor": "white",
             "linecolor": "white",
             "minorgridcolor": "white",
             "startlinecolor": "#2a3f5f"
            },
            "type": "carpet"
           }
          ],
          "choropleth": [
           {
            "colorbar": {
             "outlinewidth": 0,
             "ticks": ""
            },
            "type": "choropleth"
           }
          ],
          "contour": [
           {
            "colorbar": {
             "outlinewidth": 0,
             "ticks": ""
            },
            "colorscale": [
             [
              0,
              "#0d0887"
             ],
             [
              0.1111111111111111,
              "#46039f"
             ],
             [
              0.2222222222222222,
              "#7201a8"
             ],
             [
              0.3333333333333333,
              "#9c179e"
             ],
             [
              0.4444444444444444,
              "#bd3786"
             ],
             [
              0.5555555555555556,
              "#d8576b"
             ],
             [
              0.6666666666666666,
              "#ed7953"
             ],
             [
              0.7777777777777778,
              "#fb9f3a"
             ],
             [
              0.8888888888888888,
              "#fdca26"
             ],
             [
              1,
              "#f0f921"
             ]
            ],
            "type": "contour"
           }
          ],
          "contourcarpet": [
           {
            "colorbar": {
             "outlinewidth": 0,
             "ticks": ""
            },
            "type": "contourcarpet"
           }
          ],
          "heatmap": [
           {
            "colorbar": {
             "outlinewidth": 0,
             "ticks": ""
            },
            "colorscale": [
             [
              0,
              "#0d0887"
             ],
             [
              0.1111111111111111,
              "#46039f"
             ],
             [
              0.2222222222222222,
              "#7201a8"
             ],
             [
              0.3333333333333333,
              "#9c179e"
             ],
             [
              0.4444444444444444,
              "#bd3786"
             ],
             [
              0.5555555555555556,
              "#d8576b"
             ],
             [
              0.6666666666666666,
              "#ed7953"
             ],
             [
              0.7777777777777778,
              "#fb9f3a"
             ],
             [
              0.8888888888888888,
              "#fdca26"
             ],
             [
              1,
              "#f0f921"
             ]
            ],
            "type": "heatmap"
           }
          ],
          "heatmapgl": [
           {
            "colorbar": {
             "outlinewidth": 0,
             "ticks": ""
            },
            "colorscale": [
             [
              0,
              "#0d0887"
             ],
             [
              0.1111111111111111,
              "#46039f"
             ],
             [
              0.2222222222222222,
              "#7201a8"
             ],
             [
              0.3333333333333333,
              "#9c179e"
             ],
             [
              0.4444444444444444,
              "#bd3786"
             ],
             [
              0.5555555555555556,
              "#d8576b"
             ],
             [
              0.6666666666666666,
              "#ed7953"
             ],
             [
              0.7777777777777778,
              "#fb9f3a"
             ],
             [
              0.8888888888888888,
              "#fdca26"
             ],
             [
              1,
              "#f0f921"
             ]
            ],
            "type": "heatmapgl"
           }
          ],
          "histogram": [
           {
            "marker": {
             "colorbar": {
              "outlinewidth": 0,
              "ticks": ""
             }
            },
            "type": "histogram"
           }
          ],
          "histogram2d": [
           {
            "colorbar": {
             "outlinewidth": 0,
             "ticks": ""
            },
            "colorscale": [
             [
              0,
              "#0d0887"
             ],
             [
              0.1111111111111111,
              "#46039f"
             ],
             [
              0.2222222222222222,
              "#7201a8"
             ],
             [
              0.3333333333333333,
              "#9c179e"
             ],
             [
              0.4444444444444444,
              "#bd3786"
             ],
             [
              0.5555555555555556,
              "#d8576b"
             ],
             [
              0.6666666666666666,
              "#ed7953"
             ],
             [
              0.7777777777777778,
              "#fb9f3a"
             ],
             [
              0.8888888888888888,
              "#fdca26"
             ],
             [
              1,
              "#f0f921"
             ]
            ],
            "type": "histogram2d"
           }
          ],
          "histogram2dcontour": [
           {
            "colorbar": {
             "outlinewidth": 0,
             "ticks": ""
            },
            "colorscale": [
             [
              0,
              "#0d0887"
             ],
             [
              0.1111111111111111,
              "#46039f"
             ],
             [
              0.2222222222222222,
              "#7201a8"
             ],
             [
              0.3333333333333333,
              "#9c179e"
             ],
             [
              0.4444444444444444,
              "#bd3786"
             ],
             [
              0.5555555555555556,
              "#d8576b"
             ],
             [
              0.6666666666666666,
              "#ed7953"
             ],
             [
              0.7777777777777778,
              "#fb9f3a"
             ],
             [
              0.8888888888888888,
              "#fdca26"
             ],
             [
              1,
              "#f0f921"
             ]
            ],
            "type": "histogram2dcontour"
           }
          ],
          "mesh3d": [
           {
            "colorbar": {
             "outlinewidth": 0,
             "ticks": ""
            },
            "type": "mesh3d"
           }
          ],
          "parcoords": [
           {
            "line": {
             "colorbar": {
              "outlinewidth": 0,
              "ticks": ""
             }
            },
            "type": "parcoords"
           }
          ],
          "pie": [
           {
            "automargin": true,
            "type": "pie"
           }
          ],
          "scatter": [
           {
            "marker": {
             "colorbar": {
              "outlinewidth": 0,
              "ticks": ""
             }
            },
            "type": "scatter"
           }
          ],
          "scatter3d": [
           {
            "line": {
             "colorbar": {
              "outlinewidth": 0,
              "ticks": ""
             }
            },
            "marker": {
             "colorbar": {
              "outlinewidth": 0,
              "ticks": ""
             }
            },
            "type": "scatter3d"
           }
          ],
          "scattercarpet": [
           {
            "marker": {
             "colorbar": {
              "outlinewidth": 0,
              "ticks": ""
             }
            },
            "type": "scattercarpet"
           }
          ],
          "scattergeo": [
           {
            "marker": {
             "colorbar": {
              "outlinewidth": 0,
              "ticks": ""
             }
            },
            "type": "scattergeo"
           }
          ],
          "scattergl": [
           {
            "marker": {
             "colorbar": {
              "outlinewidth": 0,
              "ticks": ""
             }
            },
            "type": "scattergl"
           }
          ],
          "scattermapbox": [
           {
            "marker": {
             "colorbar": {
              "outlinewidth": 0,
              "ticks": ""
             }
            },
            "type": "scattermapbox"
           }
          ],
          "scatterpolar": [
           {
            "marker": {
             "colorbar": {
              "outlinewidth": 0,
              "ticks": ""
             }
            },
            "type": "scatterpolar"
           }
          ],
          "scatterpolargl": [
           {
            "marker": {
             "colorbar": {
              "outlinewidth": 0,
              "ticks": ""
             }
            },
            "type": "scatterpolargl"
           }
          ],
          "scatterternary": [
           {
            "marker": {
             "colorbar": {
              "outlinewidth": 0,
              "ticks": ""
             }
            },
            "type": "scatterternary"
           }
          ],
          "surface": [
           {
            "colorbar": {
             "outlinewidth": 0,
             "ticks": ""
            },
            "colorscale": [
             [
              0,
              "#0d0887"
             ],
             [
              0.1111111111111111,
              "#46039f"
             ],
             [
              0.2222222222222222,
              "#7201a8"
             ],
             [
              0.3333333333333333,
              "#9c179e"
             ],
             [
              0.4444444444444444,
              "#bd3786"
             ],
             [
              0.5555555555555556,
              "#d8576b"
             ],
             [
              0.6666666666666666,
              "#ed7953"
             ],
             [
              0.7777777777777778,
              "#fb9f3a"
             ],
             [
              0.8888888888888888,
              "#fdca26"
             ],
             [
              1,
              "#f0f921"
             ]
            ],
            "type": "surface"
           }
          ],
          "table": [
           {
            "cells": {
             "fill": {
              "color": "#EBF0F8"
             },
             "line": {
              "color": "white"
             }
            },
            "header": {
             "fill": {
              "color": "#C8D4E3"
             },
             "line": {
              "color": "white"
             }
            },
            "type": "table"
           }
          ]
         },
         "layout": {
          "annotationdefaults": {
           "arrowcolor": "#2a3f5f",
           "arrowhead": 0,
           "arrowwidth": 1
          },
          "coloraxis": {
           "colorbar": {
            "outlinewidth": 0,
            "ticks": ""
           }
          },
          "colorscale": {
           "diverging": [
            [
             0,
             "#8e0152"
            ],
            [
             0.1,
             "#c51b7d"
            ],
            [
             0.2,
             "#de77ae"
            ],
            [
             0.3,
             "#f1b6da"
            ],
            [
             0.4,
             "#fde0ef"
            ],
            [
             0.5,
             "#f7f7f7"
            ],
            [
             0.6,
             "#e6f5d0"
            ],
            [
             0.7,
             "#b8e186"
            ],
            [
             0.8,
             "#7fbc41"
            ],
            [
             0.9,
             "#4d9221"
            ],
            [
             1,
             "#276419"
            ]
           ],
           "sequential": [
            [
             0,
             "#0d0887"
            ],
            [
             0.1111111111111111,
             "#46039f"
            ],
            [
             0.2222222222222222,
             "#7201a8"
            ],
            [
             0.3333333333333333,
             "#9c179e"
            ],
            [
             0.4444444444444444,
             "#bd3786"
            ],
            [
             0.5555555555555556,
             "#d8576b"
            ],
            [
             0.6666666666666666,
             "#ed7953"
            ],
            [
             0.7777777777777778,
             "#fb9f3a"
            ],
            [
             0.8888888888888888,
             "#fdca26"
            ],
            [
             1,
             "#f0f921"
            ]
           ],
           "sequentialminus": [
            [
             0,
             "#0d0887"
            ],
            [
             0.1111111111111111,
             "#46039f"
            ],
            [
             0.2222222222222222,
             "#7201a8"
            ],
            [
             0.3333333333333333,
             "#9c179e"
            ],
            [
             0.4444444444444444,
             "#bd3786"
            ],
            [
             0.5555555555555556,
             "#d8576b"
            ],
            [
             0.6666666666666666,
             "#ed7953"
            ],
            [
             0.7777777777777778,
             "#fb9f3a"
            ],
            [
             0.8888888888888888,
             "#fdca26"
            ],
            [
             1,
             "#f0f921"
            ]
           ]
          },
          "colorway": [
           "#636efa",
           "#EF553B",
           "#00cc96",
           "#ab63fa",
           "#FFA15A",
           "#19d3f3",
           "#FF6692",
           "#B6E880",
           "#FF97FF",
           "#FECB52"
          ],
          "font": {
           "color": "#2a3f5f"
          },
          "geo": {
           "bgcolor": "white",
           "lakecolor": "white",
           "landcolor": "#E5ECF6",
           "showlakes": true,
           "showland": true,
           "subunitcolor": "white"
          },
          "hoverlabel": {
           "align": "left"
          },
          "hovermode": "closest",
          "mapbox": {
           "style": "light"
          },
          "paper_bgcolor": "white",
          "plot_bgcolor": "#E5ECF6",
          "polar": {
           "angularaxis": {
            "gridcolor": "white",
            "linecolor": "white",
            "ticks": ""
           },
           "bgcolor": "#E5ECF6",
           "radialaxis": {
            "gridcolor": "white",
            "linecolor": "white",
            "ticks": ""
           }
          },
          "scene": {
           "xaxis": {
            "backgroundcolor": "#E5ECF6",
            "gridcolor": "white",
            "gridwidth": 2,
            "linecolor": "white",
            "showbackground": true,
            "ticks": "",
            "zerolinecolor": "white"
           },
           "yaxis": {
            "backgroundcolor": "#E5ECF6",
            "gridcolor": "white",
            "gridwidth": 2,
            "linecolor": "white",
            "showbackground": true,
            "ticks": "",
            "zerolinecolor": "white"
           },
           "zaxis": {
            "backgroundcolor": "#E5ECF6",
            "gridcolor": "white",
            "gridwidth": 2,
            "linecolor": "white",
            "showbackground": true,
            "ticks": "",
            "zerolinecolor": "white"
           }
          },
          "shapedefaults": {
           "line": {
            "color": "#2a3f5f"
           }
          },
          "ternary": {
           "aaxis": {
            "gridcolor": "white",
            "linecolor": "white",
            "ticks": ""
           },
           "baxis": {
            "gridcolor": "white",
            "linecolor": "white",
            "ticks": ""
           },
           "bgcolor": "#E5ECF6",
           "caxis": {
            "gridcolor": "white",
            "linecolor": "white",
            "ticks": ""
           }
          },
          "title": {
           "x": 0.05
          },
          "xaxis": {
           "automargin": true,
           "gridcolor": "white",
           "linecolor": "white",
           "ticks": "",
           "title": {
            "standoff": 15
           },
           "zerolinecolor": "white",
           "zerolinewidth": 2
          },
          "yaxis": {
           "automargin": true,
           "gridcolor": "white",
           "linecolor": "white",
           "ticks": "",
           "title": {
            "standoff": 15
           },
           "zerolinecolor": "white",
           "zerolinewidth": 2
          }
         }
        }
       }
      },
      "text/html": [
       "<div>\n",
       "        \n",
       "        \n",
       "            <div id=\"005378b8-e563-4867-b97b-bae684b34ada\" class=\"plotly-graph-div\" style=\"height:525px; width:100%;\"></div>\n",
       "            <script type=\"text/javascript\">\n",
       "                require([\"plotly\"], function(Plotly) {\n",
       "                    window.PLOTLYENV=window.PLOTLYENV || {};\n",
       "                    \n",
       "                if (document.getElementById(\"005378b8-e563-4867-b97b-bae684b34ada\")) {\n",
       "                    Plotly.newPlot(\n",
       "                        '005378b8-e563-4867-b97b-bae684b34ada',\n",
       "                        [{\"dimensions\": [{\"axis\": {\"matches\": true}, \"label\": \"x\", \"values\": [0.2769818195008006, 0.23946428296987654, 0.02416367238725825, 0.030765973564659932, 0.06179257442207298, 0.19806475444736038, 0.017512672297679943, 0.4933444178595675, 0.23305931390194445, 0.15932000080549502]}, {\"axis\": {\"matches\": true}, \"label\": \"y\", \"values\": [0.931230520124746, 0.9148720447436626, 0.257825025754029, 0.35489797718790295, 0.1077990053646779, 0.14507354650219817, 0.767847711578413, 0.5263814729876014, 0.2281239392098119, 0.5020776647940048]}, {\"axis\": {\"matches\": true}, \"label\": \"z\", \"values\": [0.8973295867692846, 0.007847950534292769, 0.9055546287204238, 0.8587780327728401, 0.5850184618588795, 0.9919412169809344, 0.0839108107785036, 0.8282153711421195, 0.3029005921561406, 0.5683066160068359]}], \"hovertemplate\": \"s=a<br>%{xaxis.title.text}=%{x}<br>%{yaxis.title.text}=%{y}<extra></extra>\", \"legendgroup\": \"a\", \"marker\": {\"color\": \"#636efa\", \"symbol\": \"circle\"}, \"name\": \"a\", \"showlegend\": true, \"type\": \"splom\"}, {\"dimensions\": [{\"axis\": {\"matches\": true}, \"label\": \"x\", \"values\": [0.12371694179300985, 0.5235896971785681, 0.8208402779261358, 0.49545820331234613, 0.688847624407316, 0.012035194103140578, 0.9478536243230344, 0.6687645648959668, 0.1115692882053474, 0.09950119938899771]}, {\"axis\": {\"matches\": true}, \"label\": \"y\", \"values\": [0.7276934684561717, 0.8038300787500755, 0.251451247729091, 0.947391184405989, 0.25789079668614967, 0.267881817605957, 0.7150337731668407, 0.23803807070673977, 0.3666521630201044, 0.7553432241117046]}, {\"axis\": {\"matches\": true}, \"label\": \"z\", \"values\": [0.6433833689989382, 0.1276775673201409, 0.4663476892870446, 0.4102897685210676, 0.48156036738073427, 0.6420472588891283, 0.5640303663538884, 0.63440154790217, 0.01411863835241034, 0.6471158152282703]}], \"hovertemplate\": \"s=b<br>%{xaxis.title.text}=%{x}<br>%{yaxis.title.text}=%{y}<extra></extra>\", \"legendgroup\": \"b\", \"marker\": {\"color\": \"#EF553B\", \"symbol\": \"circle\"}, \"name\": \"b\", \"showlegend\": true, \"type\": \"splom\"}, {\"customdata\": [[0.595659348373677, 0.6446390708610317, 0.18075899585035105, \"c\"], [0.9161593780550196, 0.6771262324064155, 0.9268530206131359, \"c\"], [0.7731683579677081, 0.20641308557534555, 0.4927515945928569, \"c\"], [0.30109773971302345, 0.8263170710121248, 0.35733790952860367, \"c\"], [0.7551633894609243, 0.5749276469851344, 0.7455571056656379, \"c\"], [0.48863879292870926, 0.7300320933434961, 0.5825997856137168, \"c\"], [0.4393093605589642, 0.08294698481645546, 0.3472172800345814, \"c\"], [0.07978104757244764, 0.275722208362451, 0.7022282704494741, \"c\"], [0.6882297246370813, 0.5557152763188825, 0.7828840133060051, \"c\"], [0.5399264316896801, 0.20761477793789207, 0.7475408528943764, \"c\"]], \"type\": \"splom\"}],\n",
       "                        {\"dragmode\": \"select\", \"legend\": {\"title\": {\"text\": \"s\"}, \"tracegroupgap\": 0}, \"margin\": {\"t\": 60}, \"template\": {\"data\": {\"bar\": [{\"error_x\": {\"color\": \"#2a3f5f\"}, \"error_y\": {\"color\": \"#2a3f5f\"}, \"marker\": {\"line\": {\"color\": \"#E5ECF6\", \"width\": 0.5}}, \"type\": \"bar\"}], \"barpolar\": [{\"marker\": {\"line\": {\"color\": \"#E5ECF6\", \"width\": 0.5}}, \"type\": \"barpolar\"}], \"carpet\": [{\"aaxis\": {\"endlinecolor\": \"#2a3f5f\", \"gridcolor\": \"white\", \"linecolor\": \"white\", \"minorgridcolor\": \"white\", \"startlinecolor\": \"#2a3f5f\"}, \"baxis\": {\"endlinecolor\": \"#2a3f5f\", \"gridcolor\": \"white\", \"linecolor\": \"white\", \"minorgridcolor\": \"white\", \"startlinecolor\": \"#2a3f5f\"}, \"type\": \"carpet\"}], \"choropleth\": [{\"colorbar\": {\"outlinewidth\": 0, \"ticks\": \"\"}, \"type\": \"choropleth\"}], \"contour\": [{\"colorbar\": {\"outlinewidth\": 0, \"ticks\": \"\"}, \"colorscale\": [[0.0, \"#0d0887\"], [0.1111111111111111, \"#46039f\"], [0.2222222222222222, \"#7201a8\"], [0.3333333333333333, \"#9c179e\"], [0.4444444444444444, \"#bd3786\"], [0.5555555555555556, \"#d8576b\"], [0.6666666666666666, \"#ed7953\"], [0.7777777777777778, \"#fb9f3a\"], [0.8888888888888888, \"#fdca26\"], [1.0, \"#f0f921\"]], \"type\": \"contour\"}], \"contourcarpet\": [{\"colorbar\": {\"outlinewidth\": 0, \"ticks\": \"\"}, \"type\": \"contourcarpet\"}], \"heatmap\": [{\"colorbar\": {\"outlinewidth\": 0, \"ticks\": \"\"}, \"colorscale\": [[0.0, \"#0d0887\"], [0.1111111111111111, \"#46039f\"], [0.2222222222222222, \"#7201a8\"], [0.3333333333333333, \"#9c179e\"], [0.4444444444444444, \"#bd3786\"], [0.5555555555555556, \"#d8576b\"], [0.6666666666666666, \"#ed7953\"], [0.7777777777777778, \"#fb9f3a\"], [0.8888888888888888, \"#fdca26\"], [1.0, \"#f0f921\"]], \"type\": \"heatmap\"}], \"heatmapgl\": [{\"colorbar\": {\"outlinewidth\": 0, \"ticks\": \"\"}, \"colorscale\": [[0.0, \"#0d0887\"], [0.1111111111111111, \"#46039f\"], [0.2222222222222222, \"#7201a8\"], [0.3333333333333333, \"#9c179e\"], [0.4444444444444444, \"#bd3786\"], [0.5555555555555556, \"#d8576b\"], [0.6666666666666666, \"#ed7953\"], [0.7777777777777778, \"#fb9f3a\"], [0.8888888888888888, \"#fdca26\"], [1.0, \"#f0f921\"]], \"type\": \"heatmapgl\"}], \"histogram\": [{\"marker\": {\"colorbar\": {\"outlinewidth\": 0, \"ticks\": \"\"}}, \"type\": \"histogram\"}], \"histogram2d\": [{\"colorbar\": {\"outlinewidth\": 0, \"ticks\": \"\"}, \"colorscale\": [[0.0, \"#0d0887\"], [0.1111111111111111, \"#46039f\"], [0.2222222222222222, \"#7201a8\"], [0.3333333333333333, \"#9c179e\"], [0.4444444444444444, \"#bd3786\"], [0.5555555555555556, \"#d8576b\"], [0.6666666666666666, \"#ed7953\"], [0.7777777777777778, \"#fb9f3a\"], [0.8888888888888888, \"#fdca26\"], [1.0, \"#f0f921\"]], \"type\": \"histogram2d\"}], \"histogram2dcontour\": [{\"colorbar\": {\"outlinewidth\": 0, \"ticks\": \"\"}, \"colorscale\": [[0.0, \"#0d0887\"], [0.1111111111111111, \"#46039f\"], [0.2222222222222222, \"#7201a8\"], [0.3333333333333333, \"#9c179e\"], [0.4444444444444444, \"#bd3786\"], [0.5555555555555556, \"#d8576b\"], [0.6666666666666666, \"#ed7953\"], [0.7777777777777778, \"#fb9f3a\"], [0.8888888888888888, \"#fdca26\"], [1.0, \"#f0f921\"]], \"type\": \"histogram2dcontour\"}], \"mesh3d\": [{\"colorbar\": {\"outlinewidth\": 0, \"ticks\": \"\"}, \"type\": \"mesh3d\"}], \"parcoords\": [{\"line\": {\"colorbar\": {\"outlinewidth\": 0, \"ticks\": \"\"}}, \"type\": \"parcoords\"}], \"pie\": [{\"automargin\": true, \"type\": \"pie\"}], \"scatter\": [{\"marker\": {\"colorbar\": {\"outlinewidth\": 0, \"ticks\": \"\"}}, \"type\": \"scatter\"}], \"scatter3d\": [{\"line\": {\"colorbar\": {\"outlinewidth\": 0, \"ticks\": \"\"}}, \"marker\": {\"colorbar\": {\"outlinewidth\": 0, \"ticks\": \"\"}}, \"type\": \"scatter3d\"}], \"scattercarpet\": [{\"marker\": {\"colorbar\": {\"outlinewidth\": 0, \"ticks\": \"\"}}, \"type\": \"scattercarpet\"}], \"scattergeo\": [{\"marker\": {\"colorbar\": {\"outlinewidth\": 0, \"ticks\": \"\"}}, \"type\": \"scattergeo\"}], \"scattergl\": [{\"marker\": {\"colorbar\": {\"outlinewidth\": 0, \"ticks\": \"\"}}, \"type\": \"scattergl\"}], \"scattermapbox\": [{\"marker\": {\"colorbar\": {\"outlinewidth\": 0, \"ticks\": \"\"}}, \"type\": \"scattermapbox\"}], \"scatterpolar\": [{\"marker\": {\"colorbar\": {\"outlinewidth\": 0, \"ticks\": \"\"}}, \"type\": \"scatterpolar\"}], \"scatterpolargl\": [{\"marker\": {\"colorbar\": {\"outlinewidth\": 0, \"ticks\": \"\"}}, \"type\": \"scatterpolargl\"}], \"scatterternary\": [{\"marker\": {\"colorbar\": {\"outlinewidth\": 0, \"ticks\": \"\"}}, \"type\": \"scatterternary\"}], \"surface\": [{\"colorbar\": {\"outlinewidth\": 0, \"ticks\": \"\"}, \"colorscale\": [[0.0, \"#0d0887\"], [0.1111111111111111, \"#46039f\"], [0.2222222222222222, \"#7201a8\"], [0.3333333333333333, \"#9c179e\"], [0.4444444444444444, \"#bd3786\"], [0.5555555555555556, \"#d8576b\"], [0.6666666666666666, \"#ed7953\"], [0.7777777777777778, \"#fb9f3a\"], [0.8888888888888888, \"#fdca26\"], [1.0, \"#f0f921\"]], \"type\": \"surface\"}], \"table\": [{\"cells\": {\"fill\": {\"color\": \"#EBF0F8\"}, \"line\": {\"color\": \"white\"}}, \"header\": {\"fill\": {\"color\": \"#C8D4E3\"}, \"line\": {\"color\": \"white\"}}, \"type\": \"table\"}]}, \"layout\": {\"annotationdefaults\": {\"arrowcolor\": \"#2a3f5f\", \"arrowhead\": 0, \"arrowwidth\": 1}, \"coloraxis\": {\"colorbar\": {\"outlinewidth\": 0, \"ticks\": \"\"}}, \"colorscale\": {\"diverging\": [[0, \"#8e0152\"], [0.1, \"#c51b7d\"], [0.2, \"#de77ae\"], [0.3, \"#f1b6da\"], [0.4, \"#fde0ef\"], [0.5, \"#f7f7f7\"], [0.6, \"#e6f5d0\"], [0.7, \"#b8e186\"], [0.8, \"#7fbc41\"], [0.9, \"#4d9221\"], [1, \"#276419\"]], \"sequential\": [[0.0, \"#0d0887\"], [0.1111111111111111, \"#46039f\"], [0.2222222222222222, \"#7201a8\"], [0.3333333333333333, \"#9c179e\"], [0.4444444444444444, \"#bd3786\"], [0.5555555555555556, \"#d8576b\"], [0.6666666666666666, \"#ed7953\"], [0.7777777777777778, \"#fb9f3a\"], [0.8888888888888888, \"#fdca26\"], [1.0, \"#f0f921\"]], \"sequentialminus\": [[0.0, \"#0d0887\"], [0.1111111111111111, \"#46039f\"], [0.2222222222222222, \"#7201a8\"], [0.3333333333333333, \"#9c179e\"], [0.4444444444444444, \"#bd3786\"], [0.5555555555555556, \"#d8576b\"], [0.6666666666666666, \"#ed7953\"], [0.7777777777777778, \"#fb9f3a\"], [0.8888888888888888, \"#fdca26\"], [1.0, \"#f0f921\"]]}, \"colorway\": [\"#636efa\", \"#EF553B\", \"#00cc96\", \"#ab63fa\", \"#FFA15A\", \"#19d3f3\", \"#FF6692\", \"#B6E880\", \"#FF97FF\", \"#FECB52\"], \"font\": {\"color\": \"#2a3f5f\"}, \"geo\": {\"bgcolor\": \"white\", \"lakecolor\": \"white\", \"landcolor\": \"#E5ECF6\", \"showlakes\": true, \"showland\": true, \"subunitcolor\": \"white\"}, \"hoverlabel\": {\"align\": \"left\"}, \"hovermode\": \"closest\", \"mapbox\": {\"style\": \"light\"}, \"paper_bgcolor\": \"white\", \"plot_bgcolor\": \"#E5ECF6\", \"polar\": {\"angularaxis\": {\"gridcolor\": \"white\", \"linecolor\": \"white\", \"ticks\": \"\"}, \"bgcolor\": \"#E5ECF6\", \"radialaxis\": {\"gridcolor\": \"white\", \"linecolor\": \"white\", \"ticks\": \"\"}}, \"scene\": {\"xaxis\": {\"backgroundcolor\": \"#E5ECF6\", \"gridcolor\": \"white\", \"gridwidth\": 2, \"linecolor\": \"white\", \"showbackground\": true, \"ticks\": \"\", \"zerolinecolor\": \"white\"}, \"yaxis\": {\"backgroundcolor\": \"#E5ECF6\", \"gridcolor\": \"white\", \"gridwidth\": 2, \"linecolor\": \"white\", \"showbackground\": true, \"ticks\": \"\", \"zerolinecolor\": \"white\"}, \"zaxis\": {\"backgroundcolor\": \"#E5ECF6\", \"gridcolor\": \"white\", \"gridwidth\": 2, \"linecolor\": \"white\", \"showbackground\": true, \"ticks\": \"\", \"zerolinecolor\": \"white\"}}, \"shapedefaults\": {\"line\": {\"color\": \"#2a3f5f\"}}, \"ternary\": {\"aaxis\": {\"gridcolor\": \"white\", \"linecolor\": \"white\", \"ticks\": \"\"}, \"baxis\": {\"gridcolor\": \"white\", \"linecolor\": \"white\", \"ticks\": \"\"}, \"bgcolor\": \"#E5ECF6\", \"caxis\": {\"gridcolor\": \"white\", \"linecolor\": \"white\", \"ticks\": \"\"}}, \"title\": {\"x\": 0.05}, \"xaxis\": {\"automargin\": true, \"gridcolor\": \"white\", \"linecolor\": \"white\", \"ticks\": \"\", \"title\": {\"standoff\": 15}, \"zerolinecolor\": \"white\", \"zerolinewidth\": 2}, \"yaxis\": {\"automargin\": true, \"gridcolor\": \"white\", \"linecolor\": \"white\", \"ticks\": \"\", \"title\": {\"standoff\": 15}, \"zerolinecolor\": \"white\", \"zerolinewidth\": 2}}}},\n",
       "                        {\"responsive\": true}\n",
       "                    ).then(function(){\n",
       "                            \n",
       "var gd = document.getElementById('005378b8-e563-4867-b97b-bae684b34ada');\n",
       "var x = new MutationObserver(function (mutations, observer) {{\n",
       "        var display = window.getComputedStyle(gd).display;\n",
       "        if (!display || display === 'none') {{\n",
       "            console.log([gd, 'removed!']);\n",
       "            Plotly.purge(gd);\n",
       "            observer.disconnect();\n",
       "        }}\n",
       "}});\n",
       "\n",
       "// Listen for the removal of the full notebook cells\n",
       "var notebookContainer = gd.closest('#notebook-container');\n",
       "if (notebookContainer) {{\n",
       "    x.observe(notebookContainer, {childList: true});\n",
       "}}\n",
       "\n",
       "// Listen for the clearing of the current output cell\n",
       "var outputEl = gd.closest('.output');\n",
       "if (outputEl) {{\n",
       "    x.observe(outputEl, {childList: true});\n",
       "}}\n",
       "\n",
       "                        })\n",
       "                };\n",
       "                });\n",
       "            </script>\n",
       "        </div>"
      ]
     },
     "metadata": {},
     "output_type": "display_data"
    }
   ],
   "source": [
    "fig.add_splom(c)"
   ]
  },
  {
   "cell_type": "code",
   "execution_count": 17,
   "metadata": {},
   "outputs": [
    {
     "name": "stdout",
     "output_type": "stream",
     "text": [
      "(Splom({\n",
      "    'dimensions': [{'axis': {'matches': True},\n",
      "                    'label': 'x',\n",
      "                    'values': array([0.27698182, 0.23946428, 0.02416367, 0.03076597, 0.06179257, 0.19806475,\n",
      "                                     0.01751267, 0.49334442, 0.23305931, 0.15932   ])},\n",
      "                   {'axis': {'matches': True},\n",
      "                    'label': 'y',\n",
      "                    'values': array([0.93123052, 0.91487204, 0.25782503, 0.35489798, 0.10779901, 0.14507355,\n",
      "                                     0.76784771, 0.52638147, 0.22812394, 0.50207766])},\n",
      "                   {'axis': {'matches': True},\n",
      "                    'label': 'z',\n",
      "                    'values': array([0.89732959, 0.00784795, 0.90555463, 0.85877803, 0.58501846, 0.99194122,\n",
      "                                     0.08391081, 0.82821537, 0.30290059, 0.56830662])}],\n",
      "    'hovertemplate': 's=a<br>%{xaxis.title.text}=%{x}<br>%{yaxis.title.text}=%{y}<extra></extra>',\n",
      "    'legendgroup': 'a',\n",
      "    'marker': {'color': '#636efa', 'symbol': 'circle'},\n",
      "    'name': 'a',\n",
      "    'showlegend': True\n",
      "}), Splom({\n",
      "    'dimensions': [{'axis': {'matches': True},\n",
      "                    'label': 'x',\n",
      "                    'values': array([0.12371694, 0.5235897 , 0.82084028, 0.4954582 , 0.68884762, 0.01203519,\n",
      "                                     0.94785362, 0.66876456, 0.11156929, 0.0995012 ])},\n",
      "                   {'axis': {'matches': True},\n",
      "                    'label': 'y',\n",
      "                    'values': array([0.72769347, 0.80383008, 0.25145125, 0.94739118, 0.2578908 , 0.26788182,\n",
      "                                     0.71503377, 0.23803807, 0.36665216, 0.75534322])},\n",
      "                   {'axis': {'matches': True},\n",
      "                    'label': 'z',\n",
      "                    'values': array([0.64338337, 0.12767757, 0.46634769, 0.41028977, 0.48156037, 0.64204726,\n",
      "                                     0.56403037, 0.63440155, 0.01411864, 0.64711582])}],\n",
      "    'hovertemplate': 's=b<br>%{xaxis.title.text}=%{x}<br>%{yaxis.title.text}=%{y}<extra></extra>',\n",
      "    'legendgroup': 'b',\n",
      "    'marker': {'color': '#EF553B', 'symbol': 'circle'},\n",
      "    'name': 'b',\n",
      "    'showlegend': True\n",
      "}), Splom({\n",
      "    'customdata': array([[0.595659348373677, 0.6446390708610317, 0.18075899585035105, 'c'],\n",
      "                         [0.9161593780550196, 0.6771262324064155, 0.9268530206131359, 'c'],\n",
      "                         [0.7731683579677081, 0.20641308557534555, 0.4927515945928569, 'c'],\n",
      "                         [0.30109773971302345, 0.8263170710121248, 0.35733790952860367, 'c'],\n",
      "                         [0.7551633894609243, 0.5749276469851344, 0.7455571056656379, 'c'],\n",
      "                         [0.48863879292870926, 0.7300320933434961, 0.5825997856137168, 'c'],\n",
      "                         [0.4393093605589642, 0.08294698481645546, 0.3472172800345814, 'c'],\n",
      "                         [0.07978104757244764, 0.275722208362451, 0.7022282704494741, 'c'],\n",
      "                         [0.6882297246370813, 0.5557152763188825, 0.7828840133060051, 'c'],\n",
      "                         [0.5399264316896801, 0.20761477793789207, 0.7475408528943764, 'c']],\n",
      "                        dtype=object)\n",
      "}))\n"
     ]
    }
   ],
   "source": [
    "print(fig.data)"
   ]
  },
  {
   "cell_type": "code",
   "execution_count": 18,
   "metadata": {},
   "outputs": [
    {
     "name": "stdout",
     "output_type": "stream",
     "text": [
      "Help on method add_splom in module plotly.graph_objs._figure:\n",
      "\n",
      "add_splom(customdata=None, customdatasrc=None, diagonal=None, dimensions=None, dimensiondefaults=None, hoverinfo=None, hoverinfosrc=None, hoverlabel=None, hovertemplate=None, hovertemplatesrc=None, hovertext=None, hovertextsrc=None, ids=None, idssrc=None, legendgroup=None, marker=None, meta=None, metasrc=None, name=None, opacity=None, selected=None, selectedpoints=None, showlegend=None, showlowerhalf=None, showupperhalf=None, stream=None, text=None, textsrc=None, uid=None, uirevision=None, unselected=None, visible=None, xaxes=None, yaxes=None, row=None, col=None, **kwargs) method of plotly.graph_objs._figure.Figure instance\n",
      "    Add a new Splom trace\n",
      "    \n",
      "    Splom traces generate scatter plot matrix visualizations. Each\n",
      "    splom `dimensions` items correspond to a generated axis. Values\n",
      "    for each of those dimensions are set in `dimensions[i].values`.\n",
      "    Splom traces support all `scattergl` marker style attributes.\n",
      "    Specify `layout.grid` attributes and/or layout x-axis and\n",
      "    y-axis attributes for more control over the axis positioning\n",
      "    and style.\n",
      "    \n",
      "    Parameters\n",
      "    ----------\n",
      "    customdata\n",
      "        Assigns extra data each datum. This may be useful when\n",
      "        listening to hover, click and selection events. Note\n",
      "        that, \"scatter\" traces also appends customdata items in\n",
      "        the markers DOM elements\n",
      "    customdatasrc\n",
      "        Sets the source reference on Chart Studio Cloud for\n",
      "        customdata .\n",
      "    diagonal\n",
      "        :class:`plotly.graph_objects.splom.Diagonal` instance\n",
      "        or dict with compatible properties\n",
      "    dimensions\n",
      "        A tuple of\n",
      "        :class:`plotly.graph_objects.splom.Dimension` instances\n",
      "        or dicts with compatible properties\n",
      "    dimensiondefaults\n",
      "        When used in a template (as\n",
      "        layout.template.data.splom.dimensiondefaults), sets the\n",
      "        default property values to use for elements of\n",
      "        splom.dimensions\n",
      "    hoverinfo\n",
      "        Determines which trace information appear on hover. If\n",
      "        `none` or `skip` are set, no information is displayed\n",
      "        upon hovering. But, if `none` is set, click and hover\n",
      "        events are still fired.\n",
      "    hoverinfosrc\n",
      "        Sets the source reference on Chart Studio Cloud for\n",
      "        hoverinfo .\n",
      "    hoverlabel\n",
      "        :class:`plotly.graph_objects.splom.Hoverlabel` instance\n",
      "        or dict with compatible properties\n",
      "    hovertemplate\n",
      "        Template string used for rendering the information that\n",
      "        appear on hover box. Note that this will override\n",
      "        `hoverinfo`. Variables are inserted using %{variable},\n",
      "        for example \"y: %{y}\". Numbers are formatted using\n",
      "        d3-format's syntax %{variable:d3-format}, for example\n",
      "        \"Price: %{y:$.2f}\". https://github.com/d3/d3-3.x-api-\n",
      "        reference/blob/master/Formatting.md#d3_format for\n",
      "        details on the formatting syntax. Dates are formatted\n",
      "        using d3-time-format's syntax %{variable|d3-time-\n",
      "        format}, for example \"Day: %{2019-01-01|%A}\".\n",
      "        https://github.com/d3/d3-3.x-api-\n",
      "        reference/blob/master/Time-Formatting.md#format for\n",
      "        details on the date formatting syntax. The variables\n",
      "        available in `hovertemplate` are the ones emitted as\n",
      "        event data described at this link\n",
      "        https://plotly.com/javascript/plotlyjs-events/#event-\n",
      "        data. Additionally, every attributes that can be\n",
      "        specified per-point (the ones that are `arrayOk: true`)\n",
      "        are available.  Anything contained in tag `<extra>` is\n",
      "        displayed in the secondary box, for example\n",
      "        \"<extra>{fullData.name}</extra>\". To hide the secondary\n",
      "        box completely, use an empty tag `<extra></extra>`.\n",
      "    hovertemplatesrc\n",
      "        Sets the source reference on Chart Studio Cloud for\n",
      "        hovertemplate .\n",
      "    hovertext\n",
      "        Same as `text`.\n",
      "    hovertextsrc\n",
      "        Sets the source reference on Chart Studio Cloud for\n",
      "        hovertext .\n",
      "    ids\n",
      "        Assigns id labels to each datum. These ids for object\n",
      "        constancy of data points during animation. Should be an\n",
      "        array of strings, not numbers or any other type.\n",
      "    idssrc\n",
      "        Sets the source reference on Chart Studio Cloud for\n",
      "        ids .\n",
      "    legendgroup\n",
      "        Sets the legend group for this trace. Traces part of\n",
      "        the same legend group hide/show at the same time when\n",
      "        toggling legend items.\n",
      "    marker\n",
      "        :class:`plotly.graph_objects.splom.Marker` instance or\n",
      "        dict with compatible properties\n",
      "    meta\n",
      "        Assigns extra meta information associated with this\n",
      "        trace that can be used in various text attributes.\n",
      "        Attributes such as trace `name`, graph, axis and\n",
      "        colorbar `title.text`, annotation `text`\n",
      "        `rangeselector`, `updatemenues` and `sliders` `label`\n",
      "        text all support `meta`. To access the trace `meta`\n",
      "        values in an attribute in the same trace, simply use\n",
      "        `%{meta[i]}` where `i` is the index or key of the\n",
      "        `meta` item in question. To access trace `meta` in\n",
      "        layout attributes, use `%{data[n[.meta[i]}` where `i`\n",
      "        is the index or key of the `meta` and `n` is the trace\n",
      "        index.\n",
      "    metasrc\n",
      "        Sets the source reference on Chart Studio Cloud for\n",
      "        meta .\n",
      "    name\n",
      "        Sets the trace name. The trace name appear as the\n",
      "        legend item and on hover.\n",
      "    opacity\n",
      "        Sets the opacity of the trace.\n",
      "    selected\n",
      "        :class:`plotly.graph_objects.splom.Selected` instance\n",
      "        or dict with compatible properties\n",
      "    selectedpoints\n",
      "        Array containing integer indices of selected points.\n",
      "        Has an effect only for traces that support selections.\n",
      "        Note that an empty array means an empty selection where\n",
      "        the `unselected` are turned on for all points, whereas,\n",
      "        any other non-array values means no selection all where\n",
      "        the `selected` and `unselected` styles have no effect.\n",
      "    showlegend\n",
      "        Determines whether or not an item corresponding to this\n",
      "        trace is shown in the legend.\n",
      "    showlowerhalf\n",
      "        Determines whether or not subplots on the lower half\n",
      "        from the diagonal are displayed.\n",
      "    showupperhalf\n",
      "        Determines whether or not subplots on the upper half\n",
      "        from the diagonal are displayed.\n",
      "    stream\n",
      "        :class:`plotly.graph_objects.splom.Stream` instance or\n",
      "        dict with compatible properties\n",
      "    text\n",
      "        Sets text elements associated with each (x,y) pair to\n",
      "        appear on hover. If a single string, the same string\n",
      "        appears over all the data points. If an array of\n",
      "        string, the items are mapped in order to the this\n",
      "        trace's (x,y) coordinates.\n",
      "    textsrc\n",
      "        Sets the source reference on Chart Studio Cloud for\n",
      "        text .\n",
      "    uid\n",
      "        Assign an id to this trace, Use this to provide object\n",
      "        constancy between traces during animations and\n",
      "        transitions.\n",
      "    uirevision\n",
      "        Controls persistence of some user-driven changes to the\n",
      "        trace: `constraintrange` in `parcoords` traces, as well\n",
      "        as some `editable: true` modifications such as `name`\n",
      "        and `colorbar.title`. Defaults to `layout.uirevision`.\n",
      "        Note that other user-driven trace attribute changes are\n",
      "        controlled by `layout` attributes: `trace.visible` is\n",
      "        controlled by `layout.legend.uirevision`,\n",
      "        `selectedpoints` is controlled by\n",
      "        `layout.selectionrevision`, and `colorbar.(x|y)`\n",
      "        (accessible with `config: {editable: true}`) is\n",
      "        controlled by `layout.editrevision`. Trace changes are\n",
      "        tracked by `uid`, which only falls back on trace index\n",
      "        if no `uid` is provided. So if your app can add/remove\n",
      "        traces before the end of the `data` array, such that\n",
      "        the same trace has a different index, you can still\n",
      "        preserve user-driven changes if you give each trace a\n",
      "        `uid` that stays with it as it moves.\n",
      "    unselected\n",
      "        :class:`plotly.graph_objects.splom.Unselected` instance\n",
      "        or dict with compatible properties\n",
      "    visible\n",
      "        Determines whether or not this trace is visible. If\n",
      "        \"legendonly\", the trace is not drawn, but can appear as\n",
      "        a legend item (provided that the legend itself is\n",
      "        visible).\n",
      "    xaxes\n",
      "        Sets the list of x axes corresponding to dimensions of\n",
      "        this splom trace. By default, a splom will match the\n",
      "        first N xaxes where N is the number of input\n",
      "        dimensions. Note that, in case where `diagonal.visible`\n",
      "        is false and `showupperhalf` or `showlowerhalf` is\n",
      "        false, this splom trace will generate one less x-axis\n",
      "        and one less y-axis.\n",
      "    yaxes\n",
      "        Sets the list of y axes corresponding to dimensions of\n",
      "        this splom trace. By default, a splom will match the\n",
      "        first N yaxes where N is the number of input\n",
      "        dimensions. Note that, in case where `diagonal.visible`\n",
      "        is false and `showupperhalf` or `showlowerhalf` is\n",
      "        false, this splom trace will generate one less x-axis\n",
      "        and one less y-axis.\n",
      "    row : int or None (default)\n",
      "        Subplot row index (starting from 1) for the trace to be\n",
      "        added. Only valid if figure was created using\n",
      "        `plotly.tools.make_subplots`\n",
      "    col : int or None (default)\n",
      "        Subplot col index (starting from 1) for the trace to be\n",
      "        added. Only valid if figure was created using\n",
      "        `plotly.tools.make_subplots`\n",
      "    \n",
      "    Returns\n",
      "    -------\n",
      "    Figure\n",
      "\n"
     ]
    }
   ],
   "source": [
    "help(fig.add_splom(c, dimensions=[\"x\",\"y\",\"z\"]))"
   ]
  },
  {
   "cell_type": "code",
   "execution_count": 22,
   "metadata": {},
   "outputs": [
    {
     "data": {
      "application/vnd.plotly.v1+json": {
       "config": {
        "plotlyServerURL": "https://plot.ly"
       },
       "data": [
        {
         "dimensions": [
          {
           "axis": {
            "matches": true
           },
           "label": "x",
           "values": [
            0.2769818195008006,
            0.23946428296987654,
            0.02416367238725825,
            0.030765973564659932,
            0.06179257442207298,
            0.19806475444736038,
            0.017512672297679943,
            0.4933444178595675,
            0.23305931390194445,
            0.15932000080549502
           ]
          },
          {
           "axis": {
            "matches": true
           },
           "label": "y",
           "values": [
            0.931230520124746,
            0.9148720447436626,
            0.257825025754029,
            0.35489797718790295,
            0.1077990053646779,
            0.14507354650219817,
            0.767847711578413,
            0.5263814729876014,
            0.2281239392098119,
            0.5020776647940048
           ]
          },
          {
           "axis": {
            "matches": true
           },
           "label": "z",
           "values": [
            0.8973295867692846,
            0.007847950534292769,
            0.9055546287204238,
            0.8587780327728401,
            0.5850184618588795,
            0.9919412169809344,
            0.0839108107785036,
            0.8282153711421195,
            0.3029005921561406,
            0.5683066160068359
           ]
          }
         ],
         "hovertemplate": "s=a<br>%{xaxis.title.text}=%{x}<br>%{yaxis.title.text}=%{y}<extra></extra>",
         "legendgroup": "a",
         "marker": {
          "color": "#636efa",
          "symbol": "circle"
         },
         "name": "a",
         "showlegend": true,
         "type": "splom"
        },
        {
         "dimensions": [
          {
           "axis": {
            "matches": true
           },
           "label": "x",
           "values": [
            0.12371694179300985,
            0.5235896971785681,
            0.8208402779261358,
            0.49545820331234613,
            0.688847624407316,
            0.012035194103140578,
            0.9478536243230344,
            0.6687645648959668,
            0.1115692882053474,
            0.09950119938899771
           ]
          },
          {
           "axis": {
            "matches": true
           },
           "label": "y",
           "values": [
            0.7276934684561717,
            0.8038300787500755,
            0.251451247729091,
            0.947391184405989,
            0.25789079668614967,
            0.267881817605957,
            0.7150337731668407,
            0.23803807070673977,
            0.3666521630201044,
            0.7553432241117046
           ]
          },
          {
           "axis": {
            "matches": true
           },
           "label": "z",
           "values": [
            0.6433833689989382,
            0.1276775673201409,
            0.4663476892870446,
            0.4102897685210676,
            0.48156036738073427,
            0.6420472588891283,
            0.5640303663538884,
            0.63440154790217,
            0.01411863835241034,
            0.6471158152282703
           ]
          }
         ],
         "hovertemplate": "s=b<br>%{xaxis.title.text}=%{x}<br>%{yaxis.title.text}=%{y}<extra></extra>",
         "legendgroup": "b",
         "marker": {
          "color": "#EF553B",
          "symbol": "circle"
         },
         "name": "b",
         "showlegend": true,
         "type": "splom"
        },
        {
         "customdata": [
          [
           0.595659348373677,
           0.6446390708610317,
           0.18075899585035105,
           "c"
          ],
          [
           0.9161593780550196,
           0.6771262324064155,
           0.9268530206131359,
           "c"
          ],
          [
           0.7731683579677081,
           0.20641308557534555,
           0.4927515945928569,
           "c"
          ],
          [
           0.30109773971302345,
           0.8263170710121248,
           0.35733790952860367,
           "c"
          ],
          [
           0.7551633894609243,
           0.5749276469851344,
           0.7455571056656379,
           "c"
          ],
          [
           0.48863879292870926,
           0.7300320933434961,
           0.5825997856137168,
           "c"
          ],
          [
           0.4393093605589642,
           0.08294698481645546,
           0.3472172800345814,
           "c"
          ],
          [
           0.07978104757244764,
           0.275722208362451,
           0.7022282704494741,
           "c"
          ],
          [
           0.6882297246370813,
           0.5557152763188825,
           0.7828840133060051,
           "c"
          ],
          [
           0.5399264316896801,
           0.20761477793789207,
           0.7475408528943764,
           "c"
          ]
         ],
         "type": "splom"
        },
        {
         "dimensions": [
          {
           "label": "x",
           "values": [
            0.595659348373677,
            0.9161593780550196,
            0.7731683579677081,
            0.30109773971302345,
            0.7551633894609243,
            0.48863879292870926,
            0.4393093605589642,
            0.07978104757244764,
            0.6882297246370813,
            0.5399264316896801
           ]
          },
          {
           "label": "y",
           "values": [
            0.6446390708610317,
            0.6771262324064155,
            0.20641308557534555,
            0.8263170710121248,
            0.5749276469851344,
            0.7300320933434961,
            0.08294698481645546,
            0.275722208362451,
            0.5557152763188825,
            0.20761477793789207
           ]
          },
          {
           "label": "z",
           "values": [
            0.18075899585035105,
            0.9268530206131359,
            0.4927515945928569,
            0.35733790952860367,
            0.7455571056656379,
            0.5825997856137168,
            0.3472172800345814,
            0.7022282704494741,
            0.7828840133060051,
            0.7475408528943764
           ]
          }
         ],
         "type": "splom"
        },
        {
         "dimensions": [
          {
           "label": "x",
           "values": [
            0.595659348373677,
            0.9161593780550196,
            0.7731683579677081,
            0.30109773971302345,
            0.7551633894609243,
            0.48863879292870926,
            0.4393093605589642,
            0.07978104757244764,
            0.6882297246370813,
            0.5399264316896801
           ]
          },
          {
           "label": "y",
           "values": [
            0.6446390708610317,
            0.6771262324064155,
            0.20641308557534555,
            0.8263170710121248,
            0.5749276469851344,
            0.7300320933434961,
            0.08294698481645546,
            0.275722208362451,
            0.5557152763188825,
            0.20761477793789207
           ]
          },
          {
           "label": "z",
           "values": [
            0.18075899585035105,
            0.9268530206131359,
            0.4927515945928569,
            0.35733790952860367,
            0.7455571056656379,
            0.5825997856137168,
            0.3472172800345814,
            0.7022282704494741,
            0.7828840133060051,
            0.7475408528943764
           ]
          }
         ],
         "name": "c",
         "type": "splom"
        }
       ],
       "layout": {
        "dragmode": "select",
        "legend": {
         "title": {
          "text": "s"
         },
         "tracegroupgap": 0
        },
        "margin": {
         "t": 60
        },
        "template": {
         "data": {
          "bar": [
           {
            "error_x": {
             "color": "#2a3f5f"
            },
            "error_y": {
             "color": "#2a3f5f"
            },
            "marker": {
             "line": {
              "color": "#E5ECF6",
              "width": 0.5
             }
            },
            "type": "bar"
           }
          ],
          "barpolar": [
           {
            "marker": {
             "line": {
              "color": "#E5ECF6",
              "width": 0.5
             }
            },
            "type": "barpolar"
           }
          ],
          "carpet": [
           {
            "aaxis": {
             "endlinecolor": "#2a3f5f",
             "gridcolor": "white",
             "linecolor": "white",
             "minorgridcolor": "white",
             "startlinecolor": "#2a3f5f"
            },
            "baxis": {
             "endlinecolor": "#2a3f5f",
             "gridcolor": "white",
             "linecolor": "white",
             "minorgridcolor": "white",
             "startlinecolor": "#2a3f5f"
            },
            "type": "carpet"
           }
          ],
          "choropleth": [
           {
            "colorbar": {
             "outlinewidth": 0,
             "ticks": ""
            },
            "type": "choropleth"
           }
          ],
          "contour": [
           {
            "colorbar": {
             "outlinewidth": 0,
             "ticks": ""
            },
            "colorscale": [
             [
              0,
              "#0d0887"
             ],
             [
              0.1111111111111111,
              "#46039f"
             ],
             [
              0.2222222222222222,
              "#7201a8"
             ],
             [
              0.3333333333333333,
              "#9c179e"
             ],
             [
              0.4444444444444444,
              "#bd3786"
             ],
             [
              0.5555555555555556,
              "#d8576b"
             ],
             [
              0.6666666666666666,
              "#ed7953"
             ],
             [
              0.7777777777777778,
              "#fb9f3a"
             ],
             [
              0.8888888888888888,
              "#fdca26"
             ],
             [
              1,
              "#f0f921"
             ]
            ],
            "type": "contour"
           }
          ],
          "contourcarpet": [
           {
            "colorbar": {
             "outlinewidth": 0,
             "ticks": ""
            },
            "type": "contourcarpet"
           }
          ],
          "heatmap": [
           {
            "colorbar": {
             "outlinewidth": 0,
             "ticks": ""
            },
            "colorscale": [
             [
              0,
              "#0d0887"
             ],
             [
              0.1111111111111111,
              "#46039f"
             ],
             [
              0.2222222222222222,
              "#7201a8"
             ],
             [
              0.3333333333333333,
              "#9c179e"
             ],
             [
              0.4444444444444444,
              "#bd3786"
             ],
             [
              0.5555555555555556,
              "#d8576b"
             ],
             [
              0.6666666666666666,
              "#ed7953"
             ],
             [
              0.7777777777777778,
              "#fb9f3a"
             ],
             [
              0.8888888888888888,
              "#fdca26"
             ],
             [
              1,
              "#f0f921"
             ]
            ],
            "type": "heatmap"
           }
          ],
          "heatmapgl": [
           {
            "colorbar": {
             "outlinewidth": 0,
             "ticks": ""
            },
            "colorscale": [
             [
              0,
              "#0d0887"
             ],
             [
              0.1111111111111111,
              "#46039f"
             ],
             [
              0.2222222222222222,
              "#7201a8"
             ],
             [
              0.3333333333333333,
              "#9c179e"
             ],
             [
              0.4444444444444444,
              "#bd3786"
             ],
             [
              0.5555555555555556,
              "#d8576b"
             ],
             [
              0.6666666666666666,
              "#ed7953"
             ],
             [
              0.7777777777777778,
              "#fb9f3a"
             ],
             [
              0.8888888888888888,
              "#fdca26"
             ],
             [
              1,
              "#f0f921"
             ]
            ],
            "type": "heatmapgl"
           }
          ],
          "histogram": [
           {
            "marker": {
             "colorbar": {
              "outlinewidth": 0,
              "ticks": ""
             }
            },
            "type": "histogram"
           }
          ],
          "histogram2d": [
           {
            "colorbar": {
             "outlinewidth": 0,
             "ticks": ""
            },
            "colorscale": [
             [
              0,
              "#0d0887"
             ],
             [
              0.1111111111111111,
              "#46039f"
             ],
             [
              0.2222222222222222,
              "#7201a8"
             ],
             [
              0.3333333333333333,
              "#9c179e"
             ],
             [
              0.4444444444444444,
              "#bd3786"
             ],
             [
              0.5555555555555556,
              "#d8576b"
             ],
             [
              0.6666666666666666,
              "#ed7953"
             ],
             [
              0.7777777777777778,
              "#fb9f3a"
             ],
             [
              0.8888888888888888,
              "#fdca26"
             ],
             [
              1,
              "#f0f921"
             ]
            ],
            "type": "histogram2d"
           }
          ],
          "histogram2dcontour": [
           {
            "colorbar": {
             "outlinewidth": 0,
             "ticks": ""
            },
            "colorscale": [
             [
              0,
              "#0d0887"
             ],
             [
              0.1111111111111111,
              "#46039f"
             ],
             [
              0.2222222222222222,
              "#7201a8"
             ],
             [
              0.3333333333333333,
              "#9c179e"
             ],
             [
              0.4444444444444444,
              "#bd3786"
             ],
             [
              0.5555555555555556,
              "#d8576b"
             ],
             [
              0.6666666666666666,
              "#ed7953"
             ],
             [
              0.7777777777777778,
              "#fb9f3a"
             ],
             [
              0.8888888888888888,
              "#fdca26"
             ],
             [
              1,
              "#f0f921"
             ]
            ],
            "type": "histogram2dcontour"
           }
          ],
          "mesh3d": [
           {
            "colorbar": {
             "outlinewidth": 0,
             "ticks": ""
            },
            "type": "mesh3d"
           }
          ],
          "parcoords": [
           {
            "line": {
             "colorbar": {
              "outlinewidth": 0,
              "ticks": ""
             }
            },
            "type": "parcoords"
           }
          ],
          "pie": [
           {
            "automargin": true,
            "type": "pie"
           }
          ],
          "scatter": [
           {
            "marker": {
             "colorbar": {
              "outlinewidth": 0,
              "ticks": ""
             }
            },
            "type": "scatter"
           }
          ],
          "scatter3d": [
           {
            "line": {
             "colorbar": {
              "outlinewidth": 0,
              "ticks": ""
             }
            },
            "marker": {
             "colorbar": {
              "outlinewidth": 0,
              "ticks": ""
             }
            },
            "type": "scatter3d"
           }
          ],
          "scattercarpet": [
           {
            "marker": {
             "colorbar": {
              "outlinewidth": 0,
              "ticks": ""
             }
            },
            "type": "scattercarpet"
           }
          ],
          "scattergeo": [
           {
            "marker": {
             "colorbar": {
              "outlinewidth": 0,
              "ticks": ""
             }
            },
            "type": "scattergeo"
           }
          ],
          "scattergl": [
           {
            "marker": {
             "colorbar": {
              "outlinewidth": 0,
              "ticks": ""
             }
            },
            "type": "scattergl"
           }
          ],
          "scattermapbox": [
           {
            "marker": {
             "colorbar": {
              "outlinewidth": 0,
              "ticks": ""
             }
            },
            "type": "scattermapbox"
           }
          ],
          "scatterpolar": [
           {
            "marker": {
             "colorbar": {
              "outlinewidth": 0,
              "ticks": ""
             }
            },
            "type": "scatterpolar"
           }
          ],
          "scatterpolargl": [
           {
            "marker": {
             "colorbar": {
              "outlinewidth": 0,
              "ticks": ""
             }
            },
            "type": "scatterpolargl"
           }
          ],
          "scatterternary": [
           {
            "marker": {
             "colorbar": {
              "outlinewidth": 0,
              "ticks": ""
             }
            },
            "type": "scatterternary"
           }
          ],
          "surface": [
           {
            "colorbar": {
             "outlinewidth": 0,
             "ticks": ""
            },
            "colorscale": [
             [
              0,
              "#0d0887"
             ],
             [
              0.1111111111111111,
              "#46039f"
             ],
             [
              0.2222222222222222,
              "#7201a8"
             ],
             [
              0.3333333333333333,
              "#9c179e"
             ],
             [
              0.4444444444444444,
              "#bd3786"
             ],
             [
              0.5555555555555556,
              "#d8576b"
             ],
             [
              0.6666666666666666,
              "#ed7953"
             ],
             [
              0.7777777777777778,
              "#fb9f3a"
             ],
             [
              0.8888888888888888,
              "#fdca26"
             ],
             [
              1,
              "#f0f921"
             ]
            ],
            "type": "surface"
           }
          ],
          "table": [
           {
            "cells": {
             "fill": {
              "color": "#EBF0F8"
             },
             "line": {
              "color": "white"
             }
            },
            "header": {
             "fill": {
              "color": "#C8D4E3"
             },
             "line": {
              "color": "white"
             }
            },
            "type": "table"
           }
          ]
         },
         "layout": {
          "annotationdefaults": {
           "arrowcolor": "#2a3f5f",
           "arrowhead": 0,
           "arrowwidth": 1
          },
          "coloraxis": {
           "colorbar": {
            "outlinewidth": 0,
            "ticks": ""
           }
          },
          "colorscale": {
           "diverging": [
            [
             0,
             "#8e0152"
            ],
            [
             0.1,
             "#c51b7d"
            ],
            [
             0.2,
             "#de77ae"
            ],
            [
             0.3,
             "#f1b6da"
            ],
            [
             0.4,
             "#fde0ef"
            ],
            [
             0.5,
             "#f7f7f7"
            ],
            [
             0.6,
             "#e6f5d0"
            ],
            [
             0.7,
             "#b8e186"
            ],
            [
             0.8,
             "#7fbc41"
            ],
            [
             0.9,
             "#4d9221"
            ],
            [
             1,
             "#276419"
            ]
           ],
           "sequential": [
            [
             0,
             "#0d0887"
            ],
            [
             0.1111111111111111,
             "#46039f"
            ],
            [
             0.2222222222222222,
             "#7201a8"
            ],
            [
             0.3333333333333333,
             "#9c179e"
            ],
            [
             0.4444444444444444,
             "#bd3786"
            ],
            [
             0.5555555555555556,
             "#d8576b"
            ],
            [
             0.6666666666666666,
             "#ed7953"
            ],
            [
             0.7777777777777778,
             "#fb9f3a"
            ],
            [
             0.8888888888888888,
             "#fdca26"
            ],
            [
             1,
             "#f0f921"
            ]
           ],
           "sequentialminus": [
            [
             0,
             "#0d0887"
            ],
            [
             0.1111111111111111,
             "#46039f"
            ],
            [
             0.2222222222222222,
             "#7201a8"
            ],
            [
             0.3333333333333333,
             "#9c179e"
            ],
            [
             0.4444444444444444,
             "#bd3786"
            ],
            [
             0.5555555555555556,
             "#d8576b"
            ],
            [
             0.6666666666666666,
             "#ed7953"
            ],
            [
             0.7777777777777778,
             "#fb9f3a"
            ],
            [
             0.8888888888888888,
             "#fdca26"
            ],
            [
             1,
             "#f0f921"
            ]
           ]
          },
          "colorway": [
           "#636efa",
           "#EF553B",
           "#00cc96",
           "#ab63fa",
           "#FFA15A",
           "#19d3f3",
           "#FF6692",
           "#B6E880",
           "#FF97FF",
           "#FECB52"
          ],
          "font": {
           "color": "#2a3f5f"
          },
          "geo": {
           "bgcolor": "white",
           "lakecolor": "white",
           "landcolor": "#E5ECF6",
           "showlakes": true,
           "showland": true,
           "subunitcolor": "white"
          },
          "hoverlabel": {
           "align": "left"
          },
          "hovermode": "closest",
          "mapbox": {
           "style": "light"
          },
          "paper_bgcolor": "white",
          "plot_bgcolor": "#E5ECF6",
          "polar": {
           "angularaxis": {
            "gridcolor": "white",
            "linecolor": "white",
            "ticks": ""
           },
           "bgcolor": "#E5ECF6",
           "radialaxis": {
            "gridcolor": "white",
            "linecolor": "white",
            "ticks": ""
           }
          },
          "scene": {
           "xaxis": {
            "backgroundcolor": "#E5ECF6",
            "gridcolor": "white",
            "gridwidth": 2,
            "linecolor": "white",
            "showbackground": true,
            "ticks": "",
            "zerolinecolor": "white"
           },
           "yaxis": {
            "backgroundcolor": "#E5ECF6",
            "gridcolor": "white",
            "gridwidth": 2,
            "linecolor": "white",
            "showbackground": true,
            "ticks": "",
            "zerolinecolor": "white"
           },
           "zaxis": {
            "backgroundcolor": "#E5ECF6",
            "gridcolor": "white",
            "gridwidth": 2,
            "linecolor": "white",
            "showbackground": true,
            "ticks": "",
            "zerolinecolor": "white"
           }
          },
          "shapedefaults": {
           "line": {
            "color": "#2a3f5f"
           }
          },
          "ternary": {
           "aaxis": {
            "gridcolor": "white",
            "linecolor": "white",
            "ticks": ""
           },
           "baxis": {
            "gridcolor": "white",
            "linecolor": "white",
            "ticks": ""
           },
           "bgcolor": "#E5ECF6",
           "caxis": {
            "gridcolor": "white",
            "linecolor": "white",
            "ticks": ""
           }
          },
          "title": {
           "x": 0.05
          },
          "xaxis": {
           "automargin": true,
           "gridcolor": "white",
           "linecolor": "white",
           "ticks": "",
           "title": {
            "standoff": 15
           },
           "zerolinecolor": "white",
           "zerolinewidth": 2
          },
          "yaxis": {
           "automargin": true,
           "gridcolor": "white",
           "linecolor": "white",
           "ticks": "",
           "title": {
            "standoff": 15
           },
           "zerolinecolor": "white",
           "zerolinewidth": 2
          }
         }
        }
       }
      },
      "text/html": [
       "<div>\n",
       "        \n",
       "        \n",
       "            <div id=\"66ef0efc-26fa-471f-becc-5c4a84fa3374\" class=\"plotly-graph-div\" style=\"height:525px; width:100%;\"></div>\n",
       "            <script type=\"text/javascript\">\n",
       "                require([\"plotly\"], function(Plotly) {\n",
       "                    window.PLOTLYENV=window.PLOTLYENV || {};\n",
       "                    \n",
       "                if (document.getElementById(\"66ef0efc-26fa-471f-becc-5c4a84fa3374\")) {\n",
       "                    Plotly.newPlot(\n",
       "                        '66ef0efc-26fa-471f-becc-5c4a84fa3374',\n",
       "                        [{\"dimensions\": [{\"axis\": {\"matches\": true}, \"label\": \"x\", \"values\": [0.2769818195008006, 0.23946428296987654, 0.02416367238725825, 0.030765973564659932, 0.06179257442207298, 0.19806475444736038, 0.017512672297679943, 0.4933444178595675, 0.23305931390194445, 0.15932000080549502]}, {\"axis\": {\"matches\": true}, \"label\": \"y\", \"values\": [0.931230520124746, 0.9148720447436626, 0.257825025754029, 0.35489797718790295, 0.1077990053646779, 0.14507354650219817, 0.767847711578413, 0.5263814729876014, 0.2281239392098119, 0.5020776647940048]}, {\"axis\": {\"matches\": true}, \"label\": \"z\", \"values\": [0.8973295867692846, 0.007847950534292769, 0.9055546287204238, 0.8587780327728401, 0.5850184618588795, 0.9919412169809344, 0.0839108107785036, 0.8282153711421195, 0.3029005921561406, 0.5683066160068359]}], \"hovertemplate\": \"s=a<br>%{xaxis.title.text}=%{x}<br>%{yaxis.title.text}=%{y}<extra></extra>\", \"legendgroup\": \"a\", \"marker\": {\"color\": \"#636efa\", \"symbol\": \"circle\"}, \"name\": \"a\", \"showlegend\": true, \"type\": \"splom\"}, {\"dimensions\": [{\"axis\": {\"matches\": true}, \"label\": \"x\", \"values\": [0.12371694179300985, 0.5235896971785681, 0.8208402779261358, 0.49545820331234613, 0.688847624407316, 0.012035194103140578, 0.9478536243230344, 0.6687645648959668, 0.1115692882053474, 0.09950119938899771]}, {\"axis\": {\"matches\": true}, \"label\": \"y\", \"values\": [0.7276934684561717, 0.8038300787500755, 0.251451247729091, 0.947391184405989, 0.25789079668614967, 0.267881817605957, 0.7150337731668407, 0.23803807070673977, 0.3666521630201044, 0.7553432241117046]}, {\"axis\": {\"matches\": true}, \"label\": \"z\", \"values\": [0.6433833689989382, 0.1276775673201409, 0.4663476892870446, 0.4102897685210676, 0.48156036738073427, 0.6420472588891283, 0.5640303663538884, 0.63440154790217, 0.01411863835241034, 0.6471158152282703]}], \"hovertemplate\": \"s=b<br>%{xaxis.title.text}=%{x}<br>%{yaxis.title.text}=%{y}<extra></extra>\", \"legendgroup\": \"b\", \"marker\": {\"color\": \"#EF553B\", \"symbol\": \"circle\"}, \"name\": \"b\", \"showlegend\": true, \"type\": \"splom\"}, {\"customdata\": [[0.595659348373677, 0.6446390708610317, 0.18075899585035105, \"c\"], [0.9161593780550196, 0.6771262324064155, 0.9268530206131359, \"c\"], [0.7731683579677081, 0.20641308557534555, 0.4927515945928569, \"c\"], [0.30109773971302345, 0.8263170710121248, 0.35733790952860367, \"c\"], [0.7551633894609243, 0.5749276469851344, 0.7455571056656379, \"c\"], [0.48863879292870926, 0.7300320933434961, 0.5825997856137168, \"c\"], [0.4393093605589642, 0.08294698481645546, 0.3472172800345814, \"c\"], [0.07978104757244764, 0.275722208362451, 0.7022282704494741, \"c\"], [0.6882297246370813, 0.5557152763188825, 0.7828840133060051, \"c\"], [0.5399264316896801, 0.20761477793789207, 0.7475408528943764, \"c\"]], \"type\": \"splom\"}, {\"dimensions\": [{\"label\": \"x\", \"values\": [0.595659348373677, 0.9161593780550196, 0.7731683579677081, 0.30109773971302345, 0.7551633894609243, 0.48863879292870926, 0.4393093605589642, 0.07978104757244764, 0.6882297246370813, 0.5399264316896801]}, {\"label\": \"y\", \"values\": [0.6446390708610317, 0.6771262324064155, 0.20641308557534555, 0.8263170710121248, 0.5749276469851344, 0.7300320933434961, 0.08294698481645546, 0.275722208362451, 0.5557152763188825, 0.20761477793789207]}, {\"label\": \"z\", \"values\": [0.18075899585035105, 0.9268530206131359, 0.4927515945928569, 0.35733790952860367, 0.7455571056656379, 0.5825997856137168, 0.3472172800345814, 0.7022282704494741, 0.7828840133060051, 0.7475408528943764]}], \"type\": \"splom\"}, {\"dimensions\": [{\"label\": \"x\", \"values\": [0.595659348373677, 0.9161593780550196, 0.7731683579677081, 0.30109773971302345, 0.7551633894609243, 0.48863879292870926, 0.4393093605589642, 0.07978104757244764, 0.6882297246370813, 0.5399264316896801]}, {\"label\": \"y\", \"values\": [0.6446390708610317, 0.6771262324064155, 0.20641308557534555, 0.8263170710121248, 0.5749276469851344, 0.7300320933434961, 0.08294698481645546, 0.275722208362451, 0.5557152763188825, 0.20761477793789207]}, {\"label\": \"z\", \"values\": [0.18075899585035105, 0.9268530206131359, 0.4927515945928569, 0.35733790952860367, 0.7455571056656379, 0.5825997856137168, 0.3472172800345814, 0.7022282704494741, 0.7828840133060051, 0.7475408528943764]}], \"name\": \"c\", \"type\": \"splom\"}],\n",
       "                        {\"dragmode\": \"select\", \"legend\": {\"title\": {\"text\": \"s\"}, \"tracegroupgap\": 0}, \"margin\": {\"t\": 60}, \"template\": {\"data\": {\"bar\": [{\"error_x\": {\"color\": \"#2a3f5f\"}, \"error_y\": {\"color\": \"#2a3f5f\"}, \"marker\": {\"line\": {\"color\": \"#E5ECF6\", \"width\": 0.5}}, \"type\": \"bar\"}], \"barpolar\": [{\"marker\": {\"line\": {\"color\": \"#E5ECF6\", \"width\": 0.5}}, \"type\": \"barpolar\"}], \"carpet\": [{\"aaxis\": {\"endlinecolor\": \"#2a3f5f\", \"gridcolor\": \"white\", \"linecolor\": \"white\", \"minorgridcolor\": \"white\", \"startlinecolor\": \"#2a3f5f\"}, \"baxis\": {\"endlinecolor\": \"#2a3f5f\", \"gridcolor\": \"white\", \"linecolor\": \"white\", \"minorgridcolor\": \"white\", \"startlinecolor\": \"#2a3f5f\"}, \"type\": \"carpet\"}], \"choropleth\": [{\"colorbar\": {\"outlinewidth\": 0, \"ticks\": \"\"}, \"type\": \"choropleth\"}], \"contour\": [{\"colorbar\": {\"outlinewidth\": 0, \"ticks\": \"\"}, \"colorscale\": [[0.0, \"#0d0887\"], [0.1111111111111111, \"#46039f\"], [0.2222222222222222, \"#7201a8\"], [0.3333333333333333, \"#9c179e\"], [0.4444444444444444, \"#bd3786\"], [0.5555555555555556, \"#d8576b\"], [0.6666666666666666, \"#ed7953\"], [0.7777777777777778, \"#fb9f3a\"], [0.8888888888888888, \"#fdca26\"], [1.0, \"#f0f921\"]], \"type\": \"contour\"}], \"contourcarpet\": [{\"colorbar\": {\"outlinewidth\": 0, \"ticks\": \"\"}, \"type\": \"contourcarpet\"}], \"heatmap\": [{\"colorbar\": {\"outlinewidth\": 0, \"ticks\": \"\"}, \"colorscale\": [[0.0, \"#0d0887\"], [0.1111111111111111, \"#46039f\"], [0.2222222222222222, \"#7201a8\"], [0.3333333333333333, \"#9c179e\"], [0.4444444444444444, \"#bd3786\"], [0.5555555555555556, \"#d8576b\"], [0.6666666666666666, \"#ed7953\"], [0.7777777777777778, \"#fb9f3a\"], [0.8888888888888888, \"#fdca26\"], [1.0, \"#f0f921\"]], \"type\": \"heatmap\"}], \"heatmapgl\": [{\"colorbar\": {\"outlinewidth\": 0, \"ticks\": \"\"}, \"colorscale\": [[0.0, \"#0d0887\"], [0.1111111111111111, \"#46039f\"], [0.2222222222222222, \"#7201a8\"], [0.3333333333333333, \"#9c179e\"], [0.4444444444444444, \"#bd3786\"], [0.5555555555555556, \"#d8576b\"], [0.6666666666666666, \"#ed7953\"], [0.7777777777777778, \"#fb9f3a\"], [0.8888888888888888, \"#fdca26\"], [1.0, \"#f0f921\"]], \"type\": \"heatmapgl\"}], \"histogram\": [{\"marker\": {\"colorbar\": {\"outlinewidth\": 0, \"ticks\": \"\"}}, \"type\": \"histogram\"}], \"histogram2d\": [{\"colorbar\": {\"outlinewidth\": 0, \"ticks\": \"\"}, \"colorscale\": [[0.0, \"#0d0887\"], [0.1111111111111111, \"#46039f\"], [0.2222222222222222, \"#7201a8\"], [0.3333333333333333, \"#9c179e\"], [0.4444444444444444, \"#bd3786\"], [0.5555555555555556, \"#d8576b\"], [0.6666666666666666, \"#ed7953\"], [0.7777777777777778, \"#fb9f3a\"], [0.8888888888888888, \"#fdca26\"], [1.0, \"#f0f921\"]], \"type\": \"histogram2d\"}], \"histogram2dcontour\": [{\"colorbar\": {\"outlinewidth\": 0, \"ticks\": \"\"}, \"colorscale\": [[0.0, \"#0d0887\"], [0.1111111111111111, \"#46039f\"], [0.2222222222222222, \"#7201a8\"], [0.3333333333333333, \"#9c179e\"], [0.4444444444444444, \"#bd3786\"], [0.5555555555555556, \"#d8576b\"], [0.6666666666666666, \"#ed7953\"], [0.7777777777777778, \"#fb9f3a\"], [0.8888888888888888, \"#fdca26\"], [1.0, \"#f0f921\"]], \"type\": \"histogram2dcontour\"}], \"mesh3d\": [{\"colorbar\": {\"outlinewidth\": 0, \"ticks\": \"\"}, \"type\": \"mesh3d\"}], \"parcoords\": [{\"line\": {\"colorbar\": {\"outlinewidth\": 0, \"ticks\": \"\"}}, \"type\": \"parcoords\"}], \"pie\": [{\"automargin\": true, \"type\": \"pie\"}], \"scatter\": [{\"marker\": {\"colorbar\": {\"outlinewidth\": 0, \"ticks\": \"\"}}, \"type\": \"scatter\"}], \"scatter3d\": [{\"line\": {\"colorbar\": {\"outlinewidth\": 0, \"ticks\": \"\"}}, \"marker\": {\"colorbar\": {\"outlinewidth\": 0, \"ticks\": \"\"}}, \"type\": \"scatter3d\"}], \"scattercarpet\": [{\"marker\": {\"colorbar\": {\"outlinewidth\": 0, \"ticks\": \"\"}}, \"type\": \"scattercarpet\"}], \"scattergeo\": [{\"marker\": {\"colorbar\": {\"outlinewidth\": 0, \"ticks\": \"\"}}, \"type\": \"scattergeo\"}], \"scattergl\": [{\"marker\": {\"colorbar\": {\"outlinewidth\": 0, \"ticks\": \"\"}}, \"type\": \"scattergl\"}], \"scattermapbox\": [{\"marker\": {\"colorbar\": {\"outlinewidth\": 0, \"ticks\": \"\"}}, \"type\": \"scattermapbox\"}], \"scatterpolar\": [{\"marker\": {\"colorbar\": {\"outlinewidth\": 0, \"ticks\": \"\"}}, \"type\": \"scatterpolar\"}], \"scatterpolargl\": [{\"marker\": {\"colorbar\": {\"outlinewidth\": 0, \"ticks\": \"\"}}, \"type\": \"scatterpolargl\"}], \"scatterternary\": [{\"marker\": {\"colorbar\": {\"outlinewidth\": 0, \"ticks\": \"\"}}, \"type\": \"scatterternary\"}], \"surface\": [{\"colorbar\": {\"outlinewidth\": 0, \"ticks\": \"\"}, \"colorscale\": [[0.0, \"#0d0887\"], [0.1111111111111111, \"#46039f\"], [0.2222222222222222, \"#7201a8\"], [0.3333333333333333, \"#9c179e\"], [0.4444444444444444, \"#bd3786\"], [0.5555555555555556, \"#d8576b\"], [0.6666666666666666, \"#ed7953\"], [0.7777777777777778, \"#fb9f3a\"], [0.8888888888888888, \"#fdca26\"], [1.0, \"#f0f921\"]], \"type\": \"surface\"}], \"table\": [{\"cells\": {\"fill\": {\"color\": \"#EBF0F8\"}, \"line\": {\"color\": \"white\"}}, \"header\": {\"fill\": {\"color\": \"#C8D4E3\"}, \"line\": {\"color\": \"white\"}}, \"type\": \"table\"}]}, \"layout\": {\"annotationdefaults\": {\"arrowcolor\": \"#2a3f5f\", \"arrowhead\": 0, \"arrowwidth\": 1}, \"coloraxis\": {\"colorbar\": {\"outlinewidth\": 0, \"ticks\": \"\"}}, \"colorscale\": {\"diverging\": [[0, \"#8e0152\"], [0.1, \"#c51b7d\"], [0.2, \"#de77ae\"], [0.3, \"#f1b6da\"], [0.4, \"#fde0ef\"], [0.5, \"#f7f7f7\"], [0.6, \"#e6f5d0\"], [0.7, \"#b8e186\"], [0.8, \"#7fbc41\"], [0.9, \"#4d9221\"], [1, \"#276419\"]], \"sequential\": [[0.0, \"#0d0887\"], [0.1111111111111111, \"#46039f\"], [0.2222222222222222, \"#7201a8\"], [0.3333333333333333, \"#9c179e\"], [0.4444444444444444, \"#bd3786\"], [0.5555555555555556, \"#d8576b\"], [0.6666666666666666, \"#ed7953\"], [0.7777777777777778, \"#fb9f3a\"], [0.8888888888888888, \"#fdca26\"], [1.0, \"#f0f921\"]], \"sequentialminus\": [[0.0, \"#0d0887\"], [0.1111111111111111, \"#46039f\"], [0.2222222222222222, \"#7201a8\"], [0.3333333333333333, \"#9c179e\"], [0.4444444444444444, \"#bd3786\"], [0.5555555555555556, \"#d8576b\"], [0.6666666666666666, \"#ed7953\"], [0.7777777777777778, \"#fb9f3a\"], [0.8888888888888888, \"#fdca26\"], [1.0, \"#f0f921\"]]}, \"colorway\": [\"#636efa\", \"#EF553B\", \"#00cc96\", \"#ab63fa\", \"#FFA15A\", \"#19d3f3\", \"#FF6692\", \"#B6E880\", \"#FF97FF\", \"#FECB52\"], \"font\": {\"color\": \"#2a3f5f\"}, \"geo\": {\"bgcolor\": \"white\", \"lakecolor\": \"white\", \"landcolor\": \"#E5ECF6\", \"showlakes\": true, \"showland\": true, \"subunitcolor\": \"white\"}, \"hoverlabel\": {\"align\": \"left\"}, \"hovermode\": \"closest\", \"mapbox\": {\"style\": \"light\"}, \"paper_bgcolor\": \"white\", \"plot_bgcolor\": \"#E5ECF6\", \"polar\": {\"angularaxis\": {\"gridcolor\": \"white\", \"linecolor\": \"white\", \"ticks\": \"\"}, \"bgcolor\": \"#E5ECF6\", \"radialaxis\": {\"gridcolor\": \"white\", \"linecolor\": \"white\", \"ticks\": \"\"}}, \"scene\": {\"xaxis\": {\"backgroundcolor\": \"#E5ECF6\", \"gridcolor\": \"white\", \"gridwidth\": 2, \"linecolor\": \"white\", \"showbackground\": true, \"ticks\": \"\", \"zerolinecolor\": \"white\"}, \"yaxis\": {\"backgroundcolor\": \"#E5ECF6\", \"gridcolor\": \"white\", \"gridwidth\": 2, \"linecolor\": \"white\", \"showbackground\": true, \"ticks\": \"\", \"zerolinecolor\": \"white\"}, \"zaxis\": {\"backgroundcolor\": \"#E5ECF6\", \"gridcolor\": \"white\", \"gridwidth\": 2, \"linecolor\": \"white\", \"showbackground\": true, \"ticks\": \"\", \"zerolinecolor\": \"white\"}}, \"shapedefaults\": {\"line\": {\"color\": \"#2a3f5f\"}}, \"ternary\": {\"aaxis\": {\"gridcolor\": \"white\", \"linecolor\": \"white\", \"ticks\": \"\"}, \"baxis\": {\"gridcolor\": \"white\", \"linecolor\": \"white\", \"ticks\": \"\"}, \"bgcolor\": \"#E5ECF6\", \"caxis\": {\"gridcolor\": \"white\", \"linecolor\": \"white\", \"ticks\": \"\"}}, \"title\": {\"x\": 0.05}, \"xaxis\": {\"automargin\": true, \"gridcolor\": \"white\", \"linecolor\": \"white\", \"ticks\": \"\", \"title\": {\"standoff\": 15}, \"zerolinecolor\": \"white\", \"zerolinewidth\": 2}, \"yaxis\": {\"automargin\": true, \"gridcolor\": \"white\", \"linecolor\": \"white\", \"ticks\": \"\", \"title\": {\"standoff\": 15}, \"zerolinecolor\": \"white\", \"zerolinewidth\": 2}}}},\n",
       "                        {\"responsive\": true}\n",
       "                    ).then(function(){\n",
       "                            \n",
       "var gd = document.getElementById('66ef0efc-26fa-471f-becc-5c4a84fa3374');\n",
       "var x = new MutationObserver(function (mutations, observer) {{\n",
       "        var display = window.getComputedStyle(gd).display;\n",
       "        if (!display || display === 'none') {{\n",
       "            console.log([gd, 'removed!']);\n",
       "            Plotly.purge(gd);\n",
       "            observer.disconnect();\n",
       "        }}\n",
       "}});\n",
       "\n",
       "// Listen for the removal of the full notebook cells\n",
       "var notebookContainer = gd.closest('#notebook-container');\n",
       "if (notebookContainer) {{\n",
       "    x.observe(notebookContainer, {childList: true});\n",
       "}}\n",
       "\n",
       "// Listen for the clearing of the current output cell\n",
       "var outputEl = gd.closest('.output');\n",
       "if (outputEl) {{\n",
       "    x.observe(outputEl, {childList: true});\n",
       "}}\n",
       "\n",
       "                        })\n",
       "                };\n",
       "                });\n",
       "            </script>\n",
       "        </div>"
      ]
     },
     "metadata": {},
     "output_type": "display_data"
    }
   ],
   "source": [
    "fig.add_splom(\n",
    "    dimensions=[\n",
    "        dict(label=\"x\", values=c[\"x\"]),\n",
    "        dict(label=\"y\", values=c[\"y\"]),\n",
    "        dict(label=\"z\", values=c[\"z\"])],\n",
    "    name='c')"
   ]
  },
  {
   "cell_type": "code",
   "execution_count": 23,
   "metadata": {},
   "outputs": [
    {
     "name": "stdout",
     "output_type": "stream",
     "text": [
      "(Splom({\n",
      "    'dimensions': [{'axis': {'matches': True},\n",
      "                    'label': 'x',\n",
      "                    'values': array([0.27698182, 0.23946428, 0.02416367, 0.03076597, 0.06179257, 0.19806475,\n",
      "                                     0.01751267, 0.49334442, 0.23305931, 0.15932   ])},\n",
      "                   {'axis': {'matches': True},\n",
      "                    'label': 'y',\n",
      "                    'values': array([0.93123052, 0.91487204, 0.25782503, 0.35489798, 0.10779901, 0.14507355,\n",
      "                                     0.76784771, 0.52638147, 0.22812394, 0.50207766])},\n",
      "                   {'axis': {'matches': True},\n",
      "                    'label': 'z',\n",
      "                    'values': array([0.89732959, 0.00784795, 0.90555463, 0.85877803, 0.58501846, 0.99194122,\n",
      "                                     0.08391081, 0.82821537, 0.30290059, 0.56830662])}],\n",
      "    'hovertemplate': 's=a<br>%{xaxis.title.text}=%{x}<br>%{yaxis.title.text}=%{y}<extra></extra>',\n",
      "    'legendgroup': 'a',\n",
      "    'marker': {'color': '#636efa', 'symbol': 'circle'},\n",
      "    'name': 'a',\n",
      "    'showlegend': True\n",
      "}), Splom({\n",
      "    'dimensions': [{'axis': {'matches': True},\n",
      "                    'label': 'x',\n",
      "                    'values': array([0.12371694, 0.5235897 , 0.82084028, 0.4954582 , 0.68884762, 0.01203519,\n",
      "                                     0.94785362, 0.66876456, 0.11156929, 0.0995012 ])},\n",
      "                   {'axis': {'matches': True},\n",
      "                    'label': 'y',\n",
      "                    'values': array([0.72769347, 0.80383008, 0.25145125, 0.94739118, 0.2578908 , 0.26788182,\n",
      "                                     0.71503377, 0.23803807, 0.36665216, 0.75534322])},\n",
      "                   {'axis': {'matches': True},\n",
      "                    'label': 'z',\n",
      "                    'values': array([0.64338337, 0.12767757, 0.46634769, 0.41028977, 0.48156037, 0.64204726,\n",
      "                                     0.56403037, 0.63440155, 0.01411864, 0.64711582])}],\n",
      "    'hovertemplate': 's=b<br>%{xaxis.title.text}=%{x}<br>%{yaxis.title.text}=%{y}<extra></extra>',\n",
      "    'legendgroup': 'b',\n",
      "    'marker': {'color': '#EF553B', 'symbol': 'circle'},\n",
      "    'name': 'b',\n",
      "    'showlegend': True\n",
      "}), Splom({\n",
      "    'customdata': array([[0.595659348373677, 0.6446390708610317, 0.18075899585035105, 'c'],\n",
      "                         [0.9161593780550196, 0.6771262324064155, 0.9268530206131359, 'c'],\n",
      "                         [0.7731683579677081, 0.20641308557534555, 0.4927515945928569, 'c'],\n",
      "                         [0.30109773971302345, 0.8263170710121248, 0.35733790952860367, 'c'],\n",
      "                         [0.7551633894609243, 0.5749276469851344, 0.7455571056656379, 'c'],\n",
      "                         [0.48863879292870926, 0.7300320933434961, 0.5825997856137168, 'c'],\n",
      "                         [0.4393093605589642, 0.08294698481645546, 0.3472172800345814, 'c'],\n",
      "                         [0.07978104757244764, 0.275722208362451, 0.7022282704494741, 'c'],\n",
      "                         [0.6882297246370813, 0.5557152763188825, 0.7828840133060051, 'c'],\n",
      "                         [0.5399264316896801, 0.20761477793789207, 0.7475408528943764, 'c']],\n",
      "                        dtype=object)\n",
      "}), Splom({\n",
      "    'dimensions': [{'label': 'x',\n",
      "                    'values': array([0.59565935, 0.91615938, 0.77316836, 0.30109774, 0.75516339, 0.48863879,\n",
      "                                     0.43930936, 0.07978105, 0.68822972, 0.53992643])},\n",
      "                   {'label': 'y',\n",
      "                    'values': array([0.64463907, 0.67712623, 0.20641309, 0.82631707, 0.57492765, 0.73003209,\n",
      "                                     0.08294698, 0.27572221, 0.55571528, 0.20761478])},\n",
      "                   {'label': 'z',\n",
      "                    'values': array([0.180759  , 0.92685302, 0.49275159, 0.35733791, 0.74555711, 0.58259979,\n",
      "                                     0.34721728, 0.70222827, 0.78288401, 0.74754085])}]\n",
      "}), Splom({\n",
      "    'dimensions': [{'label': 'x',\n",
      "                    'values': array([0.59565935, 0.91615938, 0.77316836, 0.30109774, 0.75516339, 0.48863879,\n",
      "                                     0.43930936, 0.07978105, 0.68822972, 0.53992643])},\n",
      "                   {'label': 'y',\n",
      "                    'values': array([0.64463907, 0.67712623, 0.20641309, 0.82631707, 0.57492765, 0.73003209,\n",
      "                                     0.08294698, 0.27572221, 0.55571528, 0.20761478])},\n",
      "                   {'label': 'z',\n",
      "                    'values': array([0.180759  , 0.92685302, 0.49275159, 0.35733791, 0.74555711, 0.58259979,\n",
      "                                     0.34721728, 0.70222827, 0.78288401, 0.74754085])}],\n",
      "    'name': 'c'\n",
      "}))\n"
     ]
    }
   ],
   "source": [
    "print(fig.data)"
   ]
  },
  {
   "cell_type": "code",
   "execution_count": 24,
   "metadata": {},
   "outputs": [],
   "source": [
    "import plotly.graph_objects as go"
   ]
  },
  {
   "cell_type": "code",
   "execution_count": 26,
   "metadata": {},
   "outputs": [],
   "source": [
    "cd = go.Splom(dimensions=[\n",
    "        dict(label=\"x\", values=c[\"x\"]),\n",
    "        dict(label=\"y\", values=c[\"y\"]),\n",
    "        dict(label=\"z\", values=c[\"z\"])],\n",
    "    name='cd')"
   ]
  },
  {
   "cell_type": "code",
   "execution_count": 34,
   "metadata": {},
   "outputs": [
    {
     "data": {
      "application/vnd.plotly.v1+json": {
       "config": {
        "plotlyServerURL": "https://plot.ly"
       },
       "data": [
        {
         "dimensions": [
          {
           "axis": {
            "matches": true
           },
           "label": "x",
           "values": [
            0.2769818195008006,
            0.23946428296987654,
            0.02416367238725825,
            0.030765973564659932,
            0.06179257442207298,
            0.19806475444736038,
            0.017512672297679943,
            0.4933444178595675,
            0.23305931390194445,
            0.15932000080549502
           ]
          },
          {
           "axis": {
            "matches": true
           },
           "label": "y",
           "values": [
            0.931230520124746,
            0.9148720447436626,
            0.257825025754029,
            0.35489797718790295,
            0.1077990053646779,
            0.14507354650219817,
            0.767847711578413,
            0.5263814729876014,
            0.2281239392098119,
            0.5020776647940048
           ]
          },
          {
           "axis": {
            "matches": true
           },
           "label": "z",
           "values": [
            0.8973295867692846,
            0.007847950534292769,
            0.9055546287204238,
            0.8587780327728401,
            0.5850184618588795,
            0.9919412169809344,
            0.0839108107785036,
            0.8282153711421195,
            0.3029005921561406,
            0.5683066160068359
           ]
          }
         ],
         "hovertemplate": "s=a<br>%{xaxis.title.text}=%{x}<br>%{yaxis.title.text}=%{y}<extra></extra>",
         "legendgroup": "a",
         "marker": {
          "color": "#636efa",
          "symbol": "circle"
         },
         "name": "a",
         "showlegend": true,
         "type": "splom"
        },
        {
         "dimensions": [
          {
           "axis": {
            "matches": true
           },
           "label": "x",
           "values": [
            0.12371694179300985,
            0.5235896971785681,
            0.8208402779261358,
            0.49545820331234613,
            0.688847624407316,
            0.012035194103140578,
            0.9478536243230344,
            0.6687645648959668,
            0.1115692882053474,
            0.09950119938899771
           ]
          },
          {
           "axis": {
            "matches": true
           },
           "label": "y",
           "values": [
            0.7276934684561717,
            0.8038300787500755,
            0.251451247729091,
            0.947391184405989,
            0.25789079668614967,
            0.267881817605957,
            0.7150337731668407,
            0.23803807070673977,
            0.3666521630201044,
            0.7553432241117046
           ]
          },
          {
           "axis": {
            "matches": true
           },
           "label": "z",
           "values": [
            0.6433833689989382,
            0.1276775673201409,
            0.4663476892870446,
            0.4102897685210676,
            0.48156036738073427,
            0.6420472588891283,
            0.5640303663538884,
            0.63440154790217,
            0.01411863835241034,
            0.6471158152282703
           ]
          }
         ],
         "hovertemplate": "s=b<br>%{xaxis.title.text}=%{x}<br>%{yaxis.title.text}=%{y}<extra></extra>",
         "legendgroup": "b",
         "marker": {
          "color": "#EF553B",
          "symbol": "circle"
         },
         "name": "b",
         "showlegend": true,
         "type": "splom"
        },
        {
         "customdata": [
          [
           0.595659348373677,
           0.6446390708610317,
           0.18075899585035105,
           "c"
          ],
          [
           0.9161593780550196,
           0.6771262324064155,
           0.9268530206131359,
           "c"
          ],
          [
           0.7731683579677081,
           0.20641308557534555,
           0.4927515945928569,
           "c"
          ],
          [
           0.30109773971302345,
           0.8263170710121248,
           0.35733790952860367,
           "c"
          ],
          [
           0.7551633894609243,
           0.5749276469851344,
           0.7455571056656379,
           "c"
          ],
          [
           0.48863879292870926,
           0.7300320933434961,
           0.5825997856137168,
           "c"
          ],
          [
           0.4393093605589642,
           0.08294698481645546,
           0.3472172800345814,
           "c"
          ],
          [
           0.07978104757244764,
           0.275722208362451,
           0.7022282704494741,
           "c"
          ],
          [
           0.6882297246370813,
           0.5557152763188825,
           0.7828840133060051,
           "c"
          ],
          [
           0.5399264316896801,
           0.20761477793789207,
           0.7475408528943764,
           "c"
          ]
         ],
         "type": "splom"
        },
        {
         "dimensions": [
          {
           "label": "x",
           "values": [
            0.595659348373677,
            0.9161593780550196,
            0.7731683579677081,
            0.30109773971302345,
            0.7551633894609243,
            0.48863879292870926,
            0.4393093605589642,
            0.07978104757244764,
            0.6882297246370813,
            0.5399264316896801
           ]
          },
          {
           "label": "y",
           "values": [
            0.6446390708610317,
            0.6771262324064155,
            0.20641308557534555,
            0.8263170710121248,
            0.5749276469851344,
            0.7300320933434961,
            0.08294698481645546,
            0.275722208362451,
            0.5557152763188825,
            0.20761477793789207
           ]
          },
          {
           "label": "z",
           "values": [
            0.18075899585035105,
            0.9268530206131359,
            0.4927515945928569,
            0.35733790952860367,
            0.7455571056656379,
            0.5825997856137168,
            0.3472172800345814,
            0.7022282704494741,
            0.7828840133060051,
            0.7475408528943764
           ]
          }
         ],
         "type": "splom"
        },
        {
         "dimensions": [
          {
           "label": "x",
           "values": [
            0.595659348373677,
            0.9161593780550196,
            0.7731683579677081,
            0.30109773971302345,
            0.7551633894609243,
            0.48863879292870926,
            0.4393093605589642,
            0.07978104757244764,
            0.6882297246370813,
            0.5399264316896801
           ]
          },
          {
           "label": "y",
           "values": [
            0.6446390708610317,
            0.6771262324064155,
            0.20641308557534555,
            0.8263170710121248,
            0.5749276469851344,
            0.7300320933434961,
            0.08294698481645546,
            0.275722208362451,
            0.5557152763188825,
            0.20761477793789207
           ]
          },
          {
           "label": "z",
           "values": [
            0.18075899585035105,
            0.9268530206131359,
            0.4927515945928569,
            0.35733790952860367,
            0.7455571056656379,
            0.5825997856137168,
            0.3472172800345814,
            0.7022282704494741,
            0.7828840133060051,
            0.7475408528943764
           ]
          }
         ],
         "name": "c",
         "type": "splom"
        },
        {
         "dimensions": [
          {
           "label": "x",
           "values": [
            0.595659348373677,
            0.9161593780550196,
            0.7731683579677081,
            0.30109773971302345,
            0.7551633894609243,
            0.48863879292870926,
            0.4393093605589642,
            0.07978104757244764,
            0.6882297246370813,
            0.5399264316896801
           ]
          },
          {
           "label": "y",
           "values": [
            0.6446390708610317,
            0.6771262324064155,
            0.20641308557534555,
            0.8263170710121248,
            0.5749276469851344,
            0.7300320933434961,
            0.08294698481645546,
            0.275722208362451,
            0.5557152763188825,
            0.20761477793789207
           ]
          },
          {
           "label": "z",
           "values": [
            0.18075899585035105,
            0.9268530206131359,
            0.4927515945928569,
            0.35733790952860367,
            0.7455571056656379,
            0.5825997856137168,
            0.3472172800345814,
            0.7022282704494741,
            0.7828840133060051,
            0.7475408528943764
           ]
          }
         ],
         "name": "cd",
         "type": "splom"
        },
        {
         "dimensions": [
          {
           "label": "x",
           "values": [
            0.595659348373677,
            0.9161593780550196,
            0.7731683579677081,
            0.30109773971302345,
            0.7551633894609243,
            0.48863879292870926,
            0.4393093605589642,
            0.07978104757244764,
            0.6882297246370813,
            0.5399264316896801
           ]
          },
          {
           "label": "y",
           "values": [
            0.6446390708610317,
            0.6771262324064155,
            0.20641308557534555,
            0.8263170710121248,
            0.5749276469851344,
            0.7300320933434961,
            0.08294698481645546,
            0.275722208362451,
            0.5557152763188825,
            0.20761477793789207
           ]
          },
          {
           "label": "z",
           "values": [
            0.18075899585035105,
            0.9268530206131359,
            0.4927515945928569,
            0.35733790952860367,
            0.7455571056656379,
            0.5825997856137168,
            0.3472172800345814,
            0.7022282704494741,
            0.7828840133060051,
            0.7475408528943764
           ]
          }
         ],
         "name": "cd",
         "type": "splom"
        },
        {
         "dimensions": [
          {
           "label": "x",
           "values": [
            0.595659348373677,
            0.9161593780550196,
            0.7731683579677081,
            0.30109773971302345,
            0.7551633894609243,
            0.48863879292870926,
            0.4393093605589642,
            0.07978104757244764,
            0.6882297246370813,
            0.5399264316896801
           ]
          },
          {
           "label": "y",
           "values": [
            0.6446390708610317,
            0.6771262324064155,
            0.20641308557534555,
            0.8263170710121248,
            0.5749276469851344,
            0.7300320933434961,
            0.08294698481645546,
            0.275722208362451,
            0.5557152763188825,
            0.20761477793789207
           ]
          },
          {
           "label": "z",
           "values": [
            0.18075899585035105,
            0.9268530206131359,
            0.4927515945928569,
            0.35733790952860367,
            0.7455571056656379,
            0.5825997856137168,
            0.3472172800345814,
            0.7022282704494741,
            0.7828840133060051,
            0.7475408528943764
           ]
          }
         ],
         "name": "cd",
         "type": "splom"
        }
       ],
       "layout": {
        "template": {
         "data": {
          "bar": [
           {
            "error_x": {
             "color": "#2a3f5f"
            },
            "error_y": {
             "color": "#2a3f5f"
            },
            "marker": {
             "line": {
              "color": "#E5ECF6",
              "width": 0.5
             }
            },
            "type": "bar"
           }
          ],
          "barpolar": [
           {
            "marker": {
             "line": {
              "color": "#E5ECF6",
              "width": 0.5
             }
            },
            "type": "barpolar"
           }
          ],
          "carpet": [
           {
            "aaxis": {
             "endlinecolor": "#2a3f5f",
             "gridcolor": "white",
             "linecolor": "white",
             "minorgridcolor": "white",
             "startlinecolor": "#2a3f5f"
            },
            "baxis": {
             "endlinecolor": "#2a3f5f",
             "gridcolor": "white",
             "linecolor": "white",
             "minorgridcolor": "white",
             "startlinecolor": "#2a3f5f"
            },
            "type": "carpet"
           }
          ],
          "choropleth": [
           {
            "colorbar": {
             "outlinewidth": 0,
             "ticks": ""
            },
            "type": "choropleth"
           }
          ],
          "contour": [
           {
            "colorbar": {
             "outlinewidth": 0,
             "ticks": ""
            },
            "colorscale": [
             [
              0,
              "#0d0887"
             ],
             [
              0.1111111111111111,
              "#46039f"
             ],
             [
              0.2222222222222222,
              "#7201a8"
             ],
             [
              0.3333333333333333,
              "#9c179e"
             ],
             [
              0.4444444444444444,
              "#bd3786"
             ],
             [
              0.5555555555555556,
              "#d8576b"
             ],
             [
              0.6666666666666666,
              "#ed7953"
             ],
             [
              0.7777777777777778,
              "#fb9f3a"
             ],
             [
              0.8888888888888888,
              "#fdca26"
             ],
             [
              1,
              "#f0f921"
             ]
            ],
            "type": "contour"
           }
          ],
          "contourcarpet": [
           {
            "colorbar": {
             "outlinewidth": 0,
             "ticks": ""
            },
            "type": "contourcarpet"
           }
          ],
          "heatmap": [
           {
            "colorbar": {
             "outlinewidth": 0,
             "ticks": ""
            },
            "colorscale": [
             [
              0,
              "#0d0887"
             ],
             [
              0.1111111111111111,
              "#46039f"
             ],
             [
              0.2222222222222222,
              "#7201a8"
             ],
             [
              0.3333333333333333,
              "#9c179e"
             ],
             [
              0.4444444444444444,
              "#bd3786"
             ],
             [
              0.5555555555555556,
              "#d8576b"
             ],
             [
              0.6666666666666666,
              "#ed7953"
             ],
             [
              0.7777777777777778,
              "#fb9f3a"
             ],
             [
              0.8888888888888888,
              "#fdca26"
             ],
             [
              1,
              "#f0f921"
             ]
            ],
            "type": "heatmap"
           }
          ],
          "heatmapgl": [
           {
            "colorbar": {
             "outlinewidth": 0,
             "ticks": ""
            },
            "colorscale": [
             [
              0,
              "#0d0887"
             ],
             [
              0.1111111111111111,
              "#46039f"
             ],
             [
              0.2222222222222222,
              "#7201a8"
             ],
             [
              0.3333333333333333,
              "#9c179e"
             ],
             [
              0.4444444444444444,
              "#bd3786"
             ],
             [
              0.5555555555555556,
              "#d8576b"
             ],
             [
              0.6666666666666666,
              "#ed7953"
             ],
             [
              0.7777777777777778,
              "#fb9f3a"
             ],
             [
              0.8888888888888888,
              "#fdca26"
             ],
             [
              1,
              "#f0f921"
             ]
            ],
            "type": "heatmapgl"
           }
          ],
          "histogram": [
           {
            "marker": {
             "colorbar": {
              "outlinewidth": 0,
              "ticks": ""
             }
            },
            "type": "histogram"
           }
          ],
          "histogram2d": [
           {
            "colorbar": {
             "outlinewidth": 0,
             "ticks": ""
            },
            "colorscale": [
             [
              0,
              "#0d0887"
             ],
             [
              0.1111111111111111,
              "#46039f"
             ],
             [
              0.2222222222222222,
              "#7201a8"
             ],
             [
              0.3333333333333333,
              "#9c179e"
             ],
             [
              0.4444444444444444,
              "#bd3786"
             ],
             [
              0.5555555555555556,
              "#d8576b"
             ],
             [
              0.6666666666666666,
              "#ed7953"
             ],
             [
              0.7777777777777778,
              "#fb9f3a"
             ],
             [
              0.8888888888888888,
              "#fdca26"
             ],
             [
              1,
              "#f0f921"
             ]
            ],
            "type": "histogram2d"
           }
          ],
          "histogram2dcontour": [
           {
            "colorbar": {
             "outlinewidth": 0,
             "ticks": ""
            },
            "colorscale": [
             [
              0,
              "#0d0887"
             ],
             [
              0.1111111111111111,
              "#46039f"
             ],
             [
              0.2222222222222222,
              "#7201a8"
             ],
             [
              0.3333333333333333,
              "#9c179e"
             ],
             [
              0.4444444444444444,
              "#bd3786"
             ],
             [
              0.5555555555555556,
              "#d8576b"
             ],
             [
              0.6666666666666666,
              "#ed7953"
             ],
             [
              0.7777777777777778,
              "#fb9f3a"
             ],
             [
              0.8888888888888888,
              "#fdca26"
             ],
             [
              1,
              "#f0f921"
             ]
            ],
            "type": "histogram2dcontour"
           }
          ],
          "mesh3d": [
           {
            "colorbar": {
             "outlinewidth": 0,
             "ticks": ""
            },
            "type": "mesh3d"
           }
          ],
          "parcoords": [
           {
            "line": {
             "colorbar": {
              "outlinewidth": 0,
              "ticks": ""
             }
            },
            "type": "parcoords"
           }
          ],
          "pie": [
           {
            "automargin": true,
            "type": "pie"
           }
          ],
          "scatter": [
           {
            "marker": {
             "colorbar": {
              "outlinewidth": 0,
              "ticks": ""
             }
            },
            "type": "scatter"
           }
          ],
          "scatter3d": [
           {
            "line": {
             "colorbar": {
              "outlinewidth": 0,
              "ticks": ""
             }
            },
            "marker": {
             "colorbar": {
              "outlinewidth": 0,
              "ticks": ""
             }
            },
            "type": "scatter3d"
           }
          ],
          "scattercarpet": [
           {
            "marker": {
             "colorbar": {
              "outlinewidth": 0,
              "ticks": ""
             }
            },
            "type": "scattercarpet"
           }
          ],
          "scattergeo": [
           {
            "marker": {
             "colorbar": {
              "outlinewidth": 0,
              "ticks": ""
             }
            },
            "type": "scattergeo"
           }
          ],
          "scattergl": [
           {
            "marker": {
             "colorbar": {
              "outlinewidth": 0,
              "ticks": ""
             }
            },
            "type": "scattergl"
           }
          ],
          "scattermapbox": [
           {
            "marker": {
             "colorbar": {
              "outlinewidth": 0,
              "ticks": ""
             }
            },
            "type": "scattermapbox"
           }
          ],
          "scatterpolar": [
           {
            "marker": {
             "colorbar": {
              "outlinewidth": 0,
              "ticks": ""
             }
            },
            "type": "scatterpolar"
           }
          ],
          "scatterpolargl": [
           {
            "marker": {
             "colorbar": {
              "outlinewidth": 0,
              "ticks": ""
             }
            },
            "type": "scatterpolargl"
           }
          ],
          "scatterternary": [
           {
            "marker": {
             "colorbar": {
              "outlinewidth": 0,
              "ticks": ""
             }
            },
            "type": "scatterternary"
           }
          ],
          "surface": [
           {
            "colorbar": {
             "outlinewidth": 0,
             "ticks": ""
            },
            "colorscale": [
             [
              0,
              "#0d0887"
             ],
             [
              0.1111111111111111,
              "#46039f"
             ],
             [
              0.2222222222222222,
              "#7201a8"
             ],
             [
              0.3333333333333333,
              "#9c179e"
             ],
             [
              0.4444444444444444,
              "#bd3786"
             ],
             [
              0.5555555555555556,
              "#d8576b"
             ],
             [
              0.6666666666666666,
              "#ed7953"
             ],
             [
              0.7777777777777778,
              "#fb9f3a"
             ],
             [
              0.8888888888888888,
              "#fdca26"
             ],
             [
              1,
              "#f0f921"
             ]
            ],
            "type": "surface"
           }
          ],
          "table": [
           {
            "cells": {
             "fill": {
              "color": "#EBF0F8"
             },
             "line": {
              "color": "white"
             }
            },
            "header": {
             "fill": {
              "color": "#C8D4E3"
             },
             "line": {
              "color": "white"
             }
            },
            "type": "table"
           }
          ]
         },
         "layout": {
          "annotationdefaults": {
           "arrowcolor": "#2a3f5f",
           "arrowhead": 0,
           "arrowwidth": 1
          },
          "coloraxis": {
           "colorbar": {
            "outlinewidth": 0,
            "ticks": ""
           }
          },
          "colorscale": {
           "diverging": [
            [
             0,
             "#8e0152"
            ],
            [
             0.1,
             "#c51b7d"
            ],
            [
             0.2,
             "#de77ae"
            ],
            [
             0.3,
             "#f1b6da"
            ],
            [
             0.4,
             "#fde0ef"
            ],
            [
             0.5,
             "#f7f7f7"
            ],
            [
             0.6,
             "#e6f5d0"
            ],
            [
             0.7,
             "#b8e186"
            ],
            [
             0.8,
             "#7fbc41"
            ],
            [
             0.9,
             "#4d9221"
            ],
            [
             1,
             "#276419"
            ]
           ],
           "sequential": [
            [
             0,
             "#0d0887"
            ],
            [
             0.1111111111111111,
             "#46039f"
            ],
            [
             0.2222222222222222,
             "#7201a8"
            ],
            [
             0.3333333333333333,
             "#9c179e"
            ],
            [
             0.4444444444444444,
             "#bd3786"
            ],
            [
             0.5555555555555556,
             "#d8576b"
            ],
            [
             0.6666666666666666,
             "#ed7953"
            ],
            [
             0.7777777777777778,
             "#fb9f3a"
            ],
            [
             0.8888888888888888,
             "#fdca26"
            ],
            [
             1,
             "#f0f921"
            ]
           ],
           "sequentialminus": [
            [
             0,
             "#0d0887"
            ],
            [
             0.1111111111111111,
             "#46039f"
            ],
            [
             0.2222222222222222,
             "#7201a8"
            ],
            [
             0.3333333333333333,
             "#9c179e"
            ],
            [
             0.4444444444444444,
             "#bd3786"
            ],
            [
             0.5555555555555556,
             "#d8576b"
            ],
            [
             0.6666666666666666,
             "#ed7953"
            ],
            [
             0.7777777777777778,
             "#fb9f3a"
            ],
            [
             0.8888888888888888,
             "#fdca26"
            ],
            [
             1,
             "#f0f921"
            ]
           ]
          },
          "colorway": [
           "#636efa",
           "#EF553B",
           "#00cc96",
           "#ab63fa",
           "#FFA15A",
           "#19d3f3",
           "#FF6692",
           "#B6E880",
           "#FF97FF",
           "#FECB52"
          ],
          "font": {
           "color": "#2a3f5f"
          },
          "geo": {
           "bgcolor": "white",
           "lakecolor": "white",
           "landcolor": "#E5ECF6",
           "showlakes": true,
           "showland": true,
           "subunitcolor": "white"
          },
          "hoverlabel": {
           "align": "left"
          },
          "hovermode": "closest",
          "mapbox": {
           "style": "light"
          },
          "paper_bgcolor": "white",
          "plot_bgcolor": "#E5ECF6",
          "polar": {
           "angularaxis": {
            "gridcolor": "white",
            "linecolor": "white",
            "ticks": ""
           },
           "bgcolor": "#E5ECF6",
           "radialaxis": {
            "gridcolor": "white",
            "linecolor": "white",
            "ticks": ""
           }
          },
          "scene": {
           "xaxis": {
            "backgroundcolor": "#E5ECF6",
            "gridcolor": "white",
            "gridwidth": 2,
            "linecolor": "white",
            "showbackground": true,
            "ticks": "",
            "zerolinecolor": "white"
           },
           "yaxis": {
            "backgroundcolor": "#E5ECF6",
            "gridcolor": "white",
            "gridwidth": 2,
            "linecolor": "white",
            "showbackground": true,
            "ticks": "",
            "zerolinecolor": "white"
           },
           "zaxis": {
            "backgroundcolor": "#E5ECF6",
            "gridcolor": "white",
            "gridwidth": 2,
            "linecolor": "white",
            "showbackground": true,
            "ticks": "",
            "zerolinecolor": "white"
           }
          },
          "shapedefaults": {
           "line": {
            "color": "#2a3f5f"
           }
          },
          "ternary": {
           "aaxis": {
            "gridcolor": "white",
            "linecolor": "white",
            "ticks": ""
           },
           "baxis": {
            "gridcolor": "white",
            "linecolor": "white",
            "ticks": ""
           },
           "bgcolor": "#E5ECF6",
           "caxis": {
            "gridcolor": "white",
            "linecolor": "white",
            "ticks": ""
           }
          },
          "title": {
           "x": 0.05
          },
          "xaxis": {
           "automargin": true,
           "gridcolor": "white",
           "linecolor": "white",
           "ticks": "",
           "title": {
            "standoff": 15
           },
           "zerolinecolor": "white",
           "zerolinewidth": 2
          },
          "yaxis": {
           "automargin": true,
           "gridcolor": "white",
           "linecolor": "white",
           "ticks": "",
           "title": {
            "standoff": 15
           },
           "zerolinecolor": "white",
           "zerolinewidth": 2
          }
         }
        }
       }
      },
      "text/html": [
       "<div>\n",
       "        \n",
       "        \n",
       "            <div id=\"d6980b37-d356-41d7-ae2f-289ce621fdeb\" class=\"plotly-graph-div\" style=\"height:525px; width:100%;\"></div>\n",
       "            <script type=\"text/javascript\">\n",
       "                require([\"plotly\"], function(Plotly) {\n",
       "                    window.PLOTLYENV=window.PLOTLYENV || {};\n",
       "                    \n",
       "                if (document.getElementById(\"d6980b37-d356-41d7-ae2f-289ce621fdeb\")) {\n",
       "                    Plotly.newPlot(\n",
       "                        'd6980b37-d356-41d7-ae2f-289ce621fdeb',\n",
       "                        [{\"dimensions\": [{\"axis\": {\"matches\": true}, \"label\": \"x\", \"values\": [0.2769818195008006, 0.23946428296987654, 0.02416367238725825, 0.030765973564659932, 0.06179257442207298, 0.19806475444736038, 0.017512672297679943, 0.4933444178595675, 0.23305931390194445, 0.15932000080549502]}, {\"axis\": {\"matches\": true}, \"label\": \"y\", \"values\": [0.931230520124746, 0.9148720447436626, 0.257825025754029, 0.35489797718790295, 0.1077990053646779, 0.14507354650219817, 0.767847711578413, 0.5263814729876014, 0.2281239392098119, 0.5020776647940048]}, {\"axis\": {\"matches\": true}, \"label\": \"z\", \"values\": [0.8973295867692846, 0.007847950534292769, 0.9055546287204238, 0.8587780327728401, 0.5850184618588795, 0.9919412169809344, 0.0839108107785036, 0.8282153711421195, 0.3029005921561406, 0.5683066160068359]}], \"hovertemplate\": \"s=a<br>%{xaxis.title.text}=%{x}<br>%{yaxis.title.text}=%{y}<extra></extra>\", \"legendgroup\": \"a\", \"marker\": {\"color\": \"#636efa\", \"symbol\": \"circle\"}, \"name\": \"a\", \"showlegend\": true, \"type\": \"splom\"}, {\"dimensions\": [{\"axis\": {\"matches\": true}, \"label\": \"x\", \"values\": [0.12371694179300985, 0.5235896971785681, 0.8208402779261358, 0.49545820331234613, 0.688847624407316, 0.012035194103140578, 0.9478536243230344, 0.6687645648959668, 0.1115692882053474, 0.09950119938899771]}, {\"axis\": {\"matches\": true}, \"label\": \"y\", \"values\": [0.7276934684561717, 0.8038300787500755, 0.251451247729091, 0.947391184405989, 0.25789079668614967, 0.267881817605957, 0.7150337731668407, 0.23803807070673977, 0.3666521630201044, 0.7553432241117046]}, {\"axis\": {\"matches\": true}, \"label\": \"z\", \"values\": [0.6433833689989382, 0.1276775673201409, 0.4663476892870446, 0.4102897685210676, 0.48156036738073427, 0.6420472588891283, 0.5640303663538884, 0.63440154790217, 0.01411863835241034, 0.6471158152282703]}], \"hovertemplate\": \"s=b<br>%{xaxis.title.text}=%{x}<br>%{yaxis.title.text}=%{y}<extra></extra>\", \"legendgroup\": \"b\", \"marker\": {\"color\": \"#EF553B\", \"symbol\": \"circle\"}, \"name\": \"b\", \"showlegend\": true, \"type\": \"splom\"}, {\"customdata\": [[0.595659348373677, 0.6446390708610317, 0.18075899585035105, \"c\"], [0.9161593780550196, 0.6771262324064155, 0.9268530206131359, \"c\"], [0.7731683579677081, 0.20641308557534555, 0.4927515945928569, \"c\"], [0.30109773971302345, 0.8263170710121248, 0.35733790952860367, \"c\"], [0.7551633894609243, 0.5749276469851344, 0.7455571056656379, \"c\"], [0.48863879292870926, 0.7300320933434961, 0.5825997856137168, \"c\"], [0.4393093605589642, 0.08294698481645546, 0.3472172800345814, \"c\"], [0.07978104757244764, 0.275722208362451, 0.7022282704494741, \"c\"], [0.6882297246370813, 0.5557152763188825, 0.7828840133060051, \"c\"], [0.5399264316896801, 0.20761477793789207, 0.7475408528943764, \"c\"]], \"type\": \"splom\"}, {\"dimensions\": [{\"label\": \"x\", \"values\": [0.595659348373677, 0.9161593780550196, 0.7731683579677081, 0.30109773971302345, 0.7551633894609243, 0.48863879292870926, 0.4393093605589642, 0.07978104757244764, 0.6882297246370813, 0.5399264316896801]}, {\"label\": \"y\", \"values\": [0.6446390708610317, 0.6771262324064155, 0.20641308557534555, 0.8263170710121248, 0.5749276469851344, 0.7300320933434961, 0.08294698481645546, 0.275722208362451, 0.5557152763188825, 0.20761477793789207]}, {\"label\": \"z\", \"values\": [0.18075899585035105, 0.9268530206131359, 0.4927515945928569, 0.35733790952860367, 0.7455571056656379, 0.5825997856137168, 0.3472172800345814, 0.7022282704494741, 0.7828840133060051, 0.7475408528943764]}], \"type\": \"splom\"}, {\"dimensions\": [{\"label\": \"x\", \"values\": [0.595659348373677, 0.9161593780550196, 0.7731683579677081, 0.30109773971302345, 0.7551633894609243, 0.48863879292870926, 0.4393093605589642, 0.07978104757244764, 0.6882297246370813, 0.5399264316896801]}, {\"label\": \"y\", \"values\": [0.6446390708610317, 0.6771262324064155, 0.20641308557534555, 0.8263170710121248, 0.5749276469851344, 0.7300320933434961, 0.08294698481645546, 0.275722208362451, 0.5557152763188825, 0.20761477793789207]}, {\"label\": \"z\", \"values\": [0.18075899585035105, 0.9268530206131359, 0.4927515945928569, 0.35733790952860367, 0.7455571056656379, 0.5825997856137168, 0.3472172800345814, 0.7022282704494741, 0.7828840133060051, 0.7475408528943764]}], \"name\": \"c\", \"type\": \"splom\"}, {\"dimensions\": [{\"label\": \"x\", \"values\": [0.595659348373677, 0.9161593780550196, 0.7731683579677081, 0.30109773971302345, 0.7551633894609243, 0.48863879292870926, 0.4393093605589642, 0.07978104757244764, 0.6882297246370813, 0.5399264316896801]}, {\"label\": \"y\", \"values\": [0.6446390708610317, 0.6771262324064155, 0.20641308557534555, 0.8263170710121248, 0.5749276469851344, 0.7300320933434961, 0.08294698481645546, 0.275722208362451, 0.5557152763188825, 0.20761477793789207]}, {\"label\": \"z\", \"values\": [0.18075899585035105, 0.9268530206131359, 0.4927515945928569, 0.35733790952860367, 0.7455571056656379, 0.5825997856137168, 0.3472172800345814, 0.7022282704494741, 0.7828840133060051, 0.7475408528943764]}], \"name\": \"cd\", \"type\": \"splom\"}, {\"dimensions\": [{\"label\": \"x\", \"values\": [0.595659348373677, 0.9161593780550196, 0.7731683579677081, 0.30109773971302345, 0.7551633894609243, 0.48863879292870926, 0.4393093605589642, 0.07978104757244764, 0.6882297246370813, 0.5399264316896801]}, {\"label\": \"y\", \"values\": [0.6446390708610317, 0.6771262324064155, 0.20641308557534555, 0.8263170710121248, 0.5749276469851344, 0.7300320933434961, 0.08294698481645546, 0.275722208362451, 0.5557152763188825, 0.20761477793789207]}, {\"label\": \"z\", \"values\": [0.18075899585035105, 0.9268530206131359, 0.4927515945928569, 0.35733790952860367, 0.7455571056656379, 0.5825997856137168, 0.3472172800345814, 0.7022282704494741, 0.7828840133060051, 0.7475408528943764]}], \"name\": \"cd\", \"type\": \"splom\"}, {\"dimensions\": [{\"label\": \"x\", \"values\": [0.595659348373677, 0.9161593780550196, 0.7731683579677081, 0.30109773971302345, 0.7551633894609243, 0.48863879292870926, 0.4393093605589642, 0.07978104757244764, 0.6882297246370813, 0.5399264316896801]}, {\"label\": \"y\", \"values\": [0.6446390708610317, 0.6771262324064155, 0.20641308557534555, 0.8263170710121248, 0.5749276469851344, 0.7300320933434961, 0.08294698481645546, 0.275722208362451, 0.5557152763188825, 0.20761477793789207]}, {\"label\": \"z\", \"values\": [0.18075899585035105, 0.9268530206131359, 0.4927515945928569, 0.35733790952860367, 0.7455571056656379, 0.5825997856137168, 0.3472172800345814, 0.7022282704494741, 0.7828840133060051, 0.7475408528943764]}], \"name\": \"cd\", \"type\": \"splom\"}],\n",
       "                        {\"template\": {\"data\": {\"bar\": [{\"error_x\": {\"color\": \"#2a3f5f\"}, \"error_y\": {\"color\": \"#2a3f5f\"}, \"marker\": {\"line\": {\"color\": \"#E5ECF6\", \"width\": 0.5}}, \"type\": \"bar\"}], \"barpolar\": [{\"marker\": {\"line\": {\"color\": \"#E5ECF6\", \"width\": 0.5}}, \"type\": \"barpolar\"}], \"carpet\": [{\"aaxis\": {\"endlinecolor\": \"#2a3f5f\", \"gridcolor\": \"white\", \"linecolor\": \"white\", \"minorgridcolor\": \"white\", \"startlinecolor\": \"#2a3f5f\"}, \"baxis\": {\"endlinecolor\": \"#2a3f5f\", \"gridcolor\": \"white\", \"linecolor\": \"white\", \"minorgridcolor\": \"white\", \"startlinecolor\": \"#2a3f5f\"}, \"type\": \"carpet\"}], \"choropleth\": [{\"colorbar\": {\"outlinewidth\": 0, \"ticks\": \"\"}, \"type\": \"choropleth\"}], \"contour\": [{\"colorbar\": {\"outlinewidth\": 0, \"ticks\": \"\"}, \"colorscale\": [[0.0, \"#0d0887\"], [0.1111111111111111, \"#46039f\"], [0.2222222222222222, \"#7201a8\"], [0.3333333333333333, \"#9c179e\"], [0.4444444444444444, \"#bd3786\"], [0.5555555555555556, \"#d8576b\"], [0.6666666666666666, \"#ed7953\"], [0.7777777777777778, \"#fb9f3a\"], [0.8888888888888888, \"#fdca26\"], [1.0, \"#f0f921\"]], \"type\": \"contour\"}], \"contourcarpet\": [{\"colorbar\": {\"outlinewidth\": 0, \"ticks\": \"\"}, \"type\": \"contourcarpet\"}], \"heatmap\": [{\"colorbar\": {\"outlinewidth\": 0, \"ticks\": \"\"}, \"colorscale\": [[0.0, \"#0d0887\"], [0.1111111111111111, \"#46039f\"], [0.2222222222222222, \"#7201a8\"], [0.3333333333333333, \"#9c179e\"], [0.4444444444444444, \"#bd3786\"], [0.5555555555555556, \"#d8576b\"], [0.6666666666666666, \"#ed7953\"], [0.7777777777777778, \"#fb9f3a\"], [0.8888888888888888, \"#fdca26\"], [1.0, \"#f0f921\"]], \"type\": \"heatmap\"}], \"heatmapgl\": [{\"colorbar\": {\"outlinewidth\": 0, \"ticks\": \"\"}, \"colorscale\": [[0.0, \"#0d0887\"], [0.1111111111111111, \"#46039f\"], [0.2222222222222222, \"#7201a8\"], [0.3333333333333333, \"#9c179e\"], [0.4444444444444444, \"#bd3786\"], [0.5555555555555556, \"#d8576b\"], [0.6666666666666666, \"#ed7953\"], [0.7777777777777778, \"#fb9f3a\"], [0.8888888888888888, \"#fdca26\"], [1.0, \"#f0f921\"]], \"type\": \"heatmapgl\"}], \"histogram\": [{\"marker\": {\"colorbar\": {\"outlinewidth\": 0, \"ticks\": \"\"}}, \"type\": \"histogram\"}], \"histogram2d\": [{\"colorbar\": {\"outlinewidth\": 0, \"ticks\": \"\"}, \"colorscale\": [[0.0, \"#0d0887\"], [0.1111111111111111, \"#46039f\"], [0.2222222222222222, \"#7201a8\"], [0.3333333333333333, \"#9c179e\"], [0.4444444444444444, \"#bd3786\"], [0.5555555555555556, \"#d8576b\"], [0.6666666666666666, \"#ed7953\"], [0.7777777777777778, \"#fb9f3a\"], [0.8888888888888888, \"#fdca26\"], [1.0, \"#f0f921\"]], \"type\": \"histogram2d\"}], \"histogram2dcontour\": [{\"colorbar\": {\"outlinewidth\": 0, \"ticks\": \"\"}, \"colorscale\": [[0.0, \"#0d0887\"], [0.1111111111111111, \"#46039f\"], [0.2222222222222222, \"#7201a8\"], [0.3333333333333333, \"#9c179e\"], [0.4444444444444444, \"#bd3786\"], [0.5555555555555556, \"#d8576b\"], [0.6666666666666666, \"#ed7953\"], [0.7777777777777778, \"#fb9f3a\"], [0.8888888888888888, \"#fdca26\"], [1.0, \"#f0f921\"]], \"type\": \"histogram2dcontour\"}], \"mesh3d\": [{\"colorbar\": {\"outlinewidth\": 0, \"ticks\": \"\"}, \"type\": \"mesh3d\"}], \"parcoords\": [{\"line\": {\"colorbar\": {\"outlinewidth\": 0, \"ticks\": \"\"}}, \"type\": \"parcoords\"}], \"pie\": [{\"automargin\": true, \"type\": \"pie\"}], \"scatter\": [{\"marker\": {\"colorbar\": {\"outlinewidth\": 0, \"ticks\": \"\"}}, \"type\": \"scatter\"}], \"scatter3d\": [{\"line\": {\"colorbar\": {\"outlinewidth\": 0, \"ticks\": \"\"}}, \"marker\": {\"colorbar\": {\"outlinewidth\": 0, \"ticks\": \"\"}}, \"type\": \"scatter3d\"}], \"scattercarpet\": [{\"marker\": {\"colorbar\": {\"outlinewidth\": 0, \"ticks\": \"\"}}, \"type\": \"scattercarpet\"}], \"scattergeo\": [{\"marker\": {\"colorbar\": {\"outlinewidth\": 0, \"ticks\": \"\"}}, \"type\": \"scattergeo\"}], \"scattergl\": [{\"marker\": {\"colorbar\": {\"outlinewidth\": 0, \"ticks\": \"\"}}, \"type\": \"scattergl\"}], \"scattermapbox\": [{\"marker\": {\"colorbar\": {\"outlinewidth\": 0, \"ticks\": \"\"}}, \"type\": \"scattermapbox\"}], \"scatterpolar\": [{\"marker\": {\"colorbar\": {\"outlinewidth\": 0, \"ticks\": \"\"}}, \"type\": \"scatterpolar\"}], \"scatterpolargl\": [{\"marker\": {\"colorbar\": {\"outlinewidth\": 0, \"ticks\": \"\"}}, \"type\": \"scatterpolargl\"}], \"scatterternary\": [{\"marker\": {\"colorbar\": {\"outlinewidth\": 0, \"ticks\": \"\"}}, \"type\": \"scatterternary\"}], \"surface\": [{\"colorbar\": {\"outlinewidth\": 0, \"ticks\": \"\"}, \"colorscale\": [[0.0, \"#0d0887\"], [0.1111111111111111, \"#46039f\"], [0.2222222222222222, \"#7201a8\"], [0.3333333333333333, \"#9c179e\"], [0.4444444444444444, \"#bd3786\"], [0.5555555555555556, \"#d8576b\"], [0.6666666666666666, \"#ed7953\"], [0.7777777777777778, \"#fb9f3a\"], [0.8888888888888888, \"#fdca26\"], [1.0, \"#f0f921\"]], \"type\": \"surface\"}], \"table\": [{\"cells\": {\"fill\": {\"color\": \"#EBF0F8\"}, \"line\": {\"color\": \"white\"}}, \"header\": {\"fill\": {\"color\": \"#C8D4E3\"}, \"line\": {\"color\": \"white\"}}, \"type\": \"table\"}]}, \"layout\": {\"annotationdefaults\": {\"arrowcolor\": \"#2a3f5f\", \"arrowhead\": 0, \"arrowwidth\": 1}, \"coloraxis\": {\"colorbar\": {\"outlinewidth\": 0, \"ticks\": \"\"}}, \"colorscale\": {\"diverging\": [[0, \"#8e0152\"], [0.1, \"#c51b7d\"], [0.2, \"#de77ae\"], [0.3, \"#f1b6da\"], [0.4, \"#fde0ef\"], [0.5, \"#f7f7f7\"], [0.6, \"#e6f5d0\"], [0.7, \"#b8e186\"], [0.8, \"#7fbc41\"], [0.9, \"#4d9221\"], [1, \"#276419\"]], \"sequential\": [[0.0, \"#0d0887\"], [0.1111111111111111, \"#46039f\"], [0.2222222222222222, \"#7201a8\"], [0.3333333333333333, \"#9c179e\"], [0.4444444444444444, \"#bd3786\"], [0.5555555555555556, \"#d8576b\"], [0.6666666666666666, \"#ed7953\"], [0.7777777777777778, \"#fb9f3a\"], [0.8888888888888888, \"#fdca26\"], [1.0, \"#f0f921\"]], \"sequentialminus\": [[0.0, \"#0d0887\"], [0.1111111111111111, \"#46039f\"], [0.2222222222222222, \"#7201a8\"], [0.3333333333333333, \"#9c179e\"], [0.4444444444444444, \"#bd3786\"], [0.5555555555555556, \"#d8576b\"], [0.6666666666666666, \"#ed7953\"], [0.7777777777777778, \"#fb9f3a\"], [0.8888888888888888, \"#fdca26\"], [1.0, \"#f0f921\"]]}, \"colorway\": [\"#636efa\", \"#EF553B\", \"#00cc96\", \"#ab63fa\", \"#FFA15A\", \"#19d3f3\", \"#FF6692\", \"#B6E880\", \"#FF97FF\", \"#FECB52\"], \"font\": {\"color\": \"#2a3f5f\"}, \"geo\": {\"bgcolor\": \"white\", \"lakecolor\": \"white\", \"landcolor\": \"#E5ECF6\", \"showlakes\": true, \"showland\": true, \"subunitcolor\": \"white\"}, \"hoverlabel\": {\"align\": \"left\"}, \"hovermode\": \"closest\", \"mapbox\": {\"style\": \"light\"}, \"paper_bgcolor\": \"white\", \"plot_bgcolor\": \"#E5ECF6\", \"polar\": {\"angularaxis\": {\"gridcolor\": \"white\", \"linecolor\": \"white\", \"ticks\": \"\"}, \"bgcolor\": \"#E5ECF6\", \"radialaxis\": {\"gridcolor\": \"white\", \"linecolor\": \"white\", \"ticks\": \"\"}}, \"scene\": {\"xaxis\": {\"backgroundcolor\": \"#E5ECF6\", \"gridcolor\": \"white\", \"gridwidth\": 2, \"linecolor\": \"white\", \"showbackground\": true, \"ticks\": \"\", \"zerolinecolor\": \"white\"}, \"yaxis\": {\"backgroundcolor\": \"#E5ECF6\", \"gridcolor\": \"white\", \"gridwidth\": 2, \"linecolor\": \"white\", \"showbackground\": true, \"ticks\": \"\", \"zerolinecolor\": \"white\"}, \"zaxis\": {\"backgroundcolor\": \"#E5ECF6\", \"gridcolor\": \"white\", \"gridwidth\": 2, \"linecolor\": \"white\", \"showbackground\": true, \"ticks\": \"\", \"zerolinecolor\": \"white\"}}, \"shapedefaults\": {\"line\": {\"color\": \"#2a3f5f\"}}, \"ternary\": {\"aaxis\": {\"gridcolor\": \"white\", \"linecolor\": \"white\", \"ticks\": \"\"}, \"baxis\": {\"gridcolor\": \"white\", \"linecolor\": \"white\", \"ticks\": \"\"}, \"bgcolor\": \"#E5ECF6\", \"caxis\": {\"gridcolor\": \"white\", \"linecolor\": \"white\", \"ticks\": \"\"}}, \"title\": {\"x\": 0.05}, \"xaxis\": {\"automargin\": true, \"gridcolor\": \"white\", \"linecolor\": \"white\", \"ticks\": \"\", \"title\": {\"standoff\": 15}, \"zerolinecolor\": \"white\", \"zerolinewidth\": 2}, \"yaxis\": {\"automargin\": true, \"gridcolor\": \"white\", \"linecolor\": \"white\", \"ticks\": \"\", \"title\": {\"standoff\": 15}, \"zerolinecolor\": \"white\", \"zerolinewidth\": 2}}}},\n",
       "                        {\"responsive\": true}\n",
       "                    ).then(function(){\n",
       "                            \n",
       "var gd = document.getElementById('d6980b37-d356-41d7-ae2f-289ce621fdeb');\n",
       "var x = new MutationObserver(function (mutations, observer) {{\n",
       "        var display = window.getComputedStyle(gd).display;\n",
       "        if (!display || display === 'none') {{\n",
       "            console.log([gd, 'removed!']);\n",
       "            Plotly.purge(gd);\n",
       "            observer.disconnect();\n",
       "        }}\n",
       "}});\n",
       "\n",
       "// Listen for the removal of the full notebook cells\n",
       "var notebookContainer = gd.closest('#notebook-container');\n",
       "if (notebookContainer) {{\n",
       "    x.observe(notebookContainer, {childList: true});\n",
       "}}\n",
       "\n",
       "// Listen for the clearing of the current output cell\n",
       "var outputEl = gd.closest('.output');\n",
       "if (outputEl) {{\n",
       "    x.observe(outputEl, {childList: true});\n",
       "}}\n",
       "\n",
       "                        })\n",
       "                };\n",
       "                });\n",
       "            </script>\n",
       "        </div>"
      ]
     },
     "metadata": {},
     "output_type": "display_data"
    }
   ],
   "source": [
    "go.Figure(fig.data + (cd,)+ (cd,)+ (cd,))"
   ]
  },
  {
   "cell_type": "code",
   "execution_count": 37,
   "metadata": {},
   "outputs": [
    {
     "name": "stdout",
     "output_type": "stream",
     "text": [
      "0,3\n",
      "1,4\n"
     ]
    }
   ],
   "source": [
    "for i,j in enumerate([3,4]):\n",
    "    print(f\"{i},{j}\")"
   ]
  },
  {
   "cell_type": "code",
   "execution_count": null,
   "metadata": {},
   "outputs": [],
   "source": []
  }
 ],
 "metadata": {
  "kernelspec": {
   "display_name": "ONAUTILUS",
   "language": "python",
   "name": "onautilus"
  },
  "language_info": {
   "codemirror_mode": {
    "name": "ipython",
    "version": 3
   },
   "file_extension": ".py",
   "mimetype": "text/x-python",
   "name": "python",
   "nbconvert_exporter": "python",
   "pygments_lexer": "ipython3",
   "version": "3.7.5rc1"
  }
 },
 "nbformat": 4,
 "nbformat_minor": 4
}
